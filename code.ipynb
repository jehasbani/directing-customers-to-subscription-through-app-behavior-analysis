{
  "cells": [
    {
      "cell_type": "markdown",
      "metadata": {
        "id": "view-in-github",
        "colab_type": "text"
      },
      "source": [
        "<a href=\"https://colab.research.google.com/github/jehasbani/directing-customers-to-subscription-through-app-behavior-analysis/blob/main/code.ipynb\" target=\"_parent\"><img src=\"https://colab.research.google.com/assets/colab-badge.svg\" alt=\"Open In Colab\"/></a>"
      ]
    },
    {
      "cell_type": "markdown",
      "metadata": {
        "id": "2IHG9h9M3aVc"
      },
      "source": [
        "# Directing customers to subscription through app behavior analysis\n",
        "\n",
        "### Introduction\n",
        "In today's market, many companies have a mobile presence. These companies often provide free products/services in their mobile apps in an attempt to transition their customers to a paid membership. Since marketing efforts cost money, companies need to know exactly who to target with offers and promotions.\n",
        "\n",
        "In this case study, the targted audience are the people who use a company's free product (i.e. installed the company's free mobile app). The goal in this project is to predict which users will not subscribe to the paid membership, so that greater marketing efforts can go into trying to \"convert\" them to paid customers.\n",
        "\n",
        "### Data\n",
        "The data we are going to use to perform this analysis is comprised of the date and time of the app installation, the features the users engaged with within the app, among others. App behaviour is characterized as the list of app screens the user looked at and whether the user played the financial mini-games available. The app usage data is only from the user's first day in the app. This limitation exists because users can only access a 24-hour free trial in which they can use all of the app's premium features, and the company wants to target them with new offers shortly after the trial is over.\n",
        "\n",
        "*Note: The data used in this project is synthetic due to the fact that this kind of dataset is not openly available as it contains business information not to be divulged. Nevertheless, the trends and patterns contained in this dataset are very much representative of a real world use case.*"
      ]
    },
    {
      "cell_type": "code",
      "execution_count": 1,
      "metadata": {
        "id": "yeXKtexa3Dv-"
      },
      "outputs": [],
      "source": [
        "import pandas as pd\n",
        "import numpy as np\n",
        "import matplotlib.pyplot as plt\n",
        "import seaborn as sns\n",
        "from dateutil import parser\n",
        "import os"
      ]
    },
    {
      "cell_type": "code",
      "execution_count": 21,
      "metadata": {
        "id": "YOHO3r-U8vfh"
      },
      "outputs": [],
      "source": [
        "colors = plt.rcParams['axes.prop_cycle'].by_key()['color']"
      ]
    },
    {
      "cell_type": "markdown",
      "metadata": {
        "id": "z_R_lHDt3jQT"
      },
      "source": [
        "## Importing data"
      ]
    },
    {
      "cell_type": "code",
      "execution_count": null,
      "metadata": {
        "colab": {
          "base_uri": "https://localhost:8080/",
          "height": 357
        },
        "id": "f2EyslFA4iAK",
        "outputId": "659c9687-caa3-4fc0-ec57-d2c363d9ac67"
      },
      "outputs": [
        {
          "data": {
            "text/html": [
              "\n",
              "  <div id=\"df-278939f0-61d0-4250-8ee6-9d996bcbff3f\">\n",
              "    <div class=\"colab-df-container\">\n",
              "      <div>\n",
              "<style scoped>\n",
              "    .dataframe tbody tr th:only-of-type {\n",
              "        vertical-align: middle;\n",
              "    }\n",
              "\n",
              "    .dataframe tbody tr th {\n",
              "        vertical-align: top;\n",
              "    }\n",
              "\n",
              "    .dataframe thead th {\n",
              "        text-align: right;\n",
              "    }\n",
              "</style>\n",
              "<table border=\"1\" class=\"dataframe\">\n",
              "  <thead>\n",
              "    <tr style=\"text-align: right;\">\n",
              "      <th></th>\n",
              "      <th>user</th>\n",
              "      <th>first_open</th>\n",
              "      <th>dayofweek</th>\n",
              "      <th>hour</th>\n",
              "      <th>age</th>\n",
              "      <th>screen_list</th>\n",
              "      <th>numscreens</th>\n",
              "      <th>minigame</th>\n",
              "      <th>used_premium_feature</th>\n",
              "      <th>enrolled</th>\n",
              "      <th>enrolled_date</th>\n",
              "      <th>liked</th>\n",
              "    </tr>\n",
              "  </thead>\n",
              "  <tbody>\n",
              "    <tr>\n",
              "      <th>0</th>\n",
              "      <td>235136</td>\n",
              "      <td>2012-12-27 02:14:51.273</td>\n",
              "      <td>3</td>\n",
              "      <td>02:00:00</td>\n",
              "      <td>23</td>\n",
              "      <td>idscreen,joinscreen,Cycle,product_review,ScanP...</td>\n",
              "      <td>15</td>\n",
              "      <td>0</td>\n",
              "      <td>0</td>\n",
              "      <td>0</td>\n",
              "      <td>NaN</td>\n",
              "      <td>0</td>\n",
              "    </tr>\n",
              "    <tr>\n",
              "      <th>1</th>\n",
              "      <td>333588</td>\n",
              "      <td>2012-12-02 01:16:00.905</td>\n",
              "      <td>6</td>\n",
              "      <td>01:00:00</td>\n",
              "      <td>24</td>\n",
              "      <td>joinscreen,product_review,product_review2,Scan...</td>\n",
              "      <td>13</td>\n",
              "      <td>0</td>\n",
              "      <td>0</td>\n",
              "      <td>0</td>\n",
              "      <td>NaN</td>\n",
              "      <td>0</td>\n",
              "    </tr>\n",
              "    <tr>\n",
              "      <th>2</th>\n",
              "      <td>254414</td>\n",
              "      <td>2013-03-19 19:19:09.157</td>\n",
              "      <td>1</td>\n",
              "      <td>19:00:00</td>\n",
              "      <td>23</td>\n",
              "      <td>Splash,Cycle,Loan</td>\n",
              "      <td>3</td>\n",
              "      <td>0</td>\n",
              "      <td>1</td>\n",
              "      <td>0</td>\n",
              "      <td>NaN</td>\n",
              "      <td>1</td>\n",
              "    </tr>\n",
              "    <tr>\n",
              "      <th>3</th>\n",
              "      <td>234192</td>\n",
              "      <td>2013-07-05 16:08:46.354</td>\n",
              "      <td>4</td>\n",
              "      <td>16:00:00</td>\n",
              "      <td>28</td>\n",
              "      <td>product_review,Home,product_review,Loan3,Finan...</td>\n",
              "      <td>40</td>\n",
              "      <td>0</td>\n",
              "      <td>0</td>\n",
              "      <td>1</td>\n",
              "      <td>2013-07-05 16:11:49.513</td>\n",
              "      <td>0</td>\n",
              "    </tr>\n",
              "    <tr>\n",
              "      <th>4</th>\n",
              "      <td>51549</td>\n",
              "      <td>2013-02-26 18:50:48.661</td>\n",
              "      <td>1</td>\n",
              "      <td>18:00:00</td>\n",
              "      <td>31</td>\n",
              "      <td>idscreen,joinscreen,Cycle,Credit3Container,Sca...</td>\n",
              "      <td>32</td>\n",
              "      <td>0</td>\n",
              "      <td>0</td>\n",
              "      <td>1</td>\n",
              "      <td>2013-02-26 18:56:37.841</td>\n",
              "      <td>1</td>\n",
              "    </tr>\n",
              "  </tbody>\n",
              "</table>\n",
              "</div>\n",
              "      <button class=\"colab-df-convert\" onclick=\"convertToInteractive('df-278939f0-61d0-4250-8ee6-9d996bcbff3f')\"\n",
              "              title=\"Convert this dataframe to an interactive table.\"\n",
              "              style=\"display:none;\">\n",
              "        \n",
              "  <svg xmlns=\"http://www.w3.org/2000/svg\" height=\"24px\"viewBox=\"0 0 24 24\"\n",
              "       width=\"24px\">\n",
              "    <path d=\"M0 0h24v24H0V0z\" fill=\"none\"/>\n",
              "    <path d=\"M18.56 5.44l.94 2.06.94-2.06 2.06-.94-2.06-.94-.94-2.06-.94 2.06-2.06.94zm-11 1L8.5 8.5l.94-2.06 2.06-.94-2.06-.94L8.5 2.5l-.94 2.06-2.06.94zm10 10l.94 2.06.94-2.06 2.06-.94-2.06-.94-.94-2.06-.94 2.06-2.06.94z\"/><path d=\"M17.41 7.96l-1.37-1.37c-.4-.4-.92-.59-1.43-.59-.52 0-1.04.2-1.43.59L10.3 9.45l-7.72 7.72c-.78.78-.78 2.05 0 2.83L4 21.41c.39.39.9.59 1.41.59.51 0 1.02-.2 1.41-.59l7.78-7.78 2.81-2.81c.8-.78.8-2.07 0-2.86zM5.41 20L4 18.59l7.72-7.72 1.47 1.35L5.41 20z\"/>\n",
              "  </svg>\n",
              "      </button>\n",
              "      \n",
              "  <style>\n",
              "    .colab-df-container {\n",
              "      display:flex;\n",
              "      flex-wrap:wrap;\n",
              "      gap: 12px;\n",
              "    }\n",
              "\n",
              "    .colab-df-convert {\n",
              "      background-color: #E8F0FE;\n",
              "      border: none;\n",
              "      border-radius: 50%;\n",
              "      cursor: pointer;\n",
              "      display: none;\n",
              "      fill: #1967D2;\n",
              "      height: 32px;\n",
              "      padding: 0 0 0 0;\n",
              "      width: 32px;\n",
              "    }\n",
              "\n",
              "    .colab-df-convert:hover {\n",
              "      background-color: #E2EBFA;\n",
              "      box-shadow: 0px 1px 2px rgba(60, 64, 67, 0.3), 0px 1px 3px 1px rgba(60, 64, 67, 0.15);\n",
              "      fill: #174EA6;\n",
              "    }\n",
              "\n",
              "    [theme=dark] .colab-df-convert {\n",
              "      background-color: #3B4455;\n",
              "      fill: #D2E3FC;\n",
              "    }\n",
              "\n",
              "    [theme=dark] .colab-df-convert:hover {\n",
              "      background-color: #434B5C;\n",
              "      box-shadow: 0px 1px 3px 1px rgba(0, 0, 0, 0.15);\n",
              "      filter: drop-shadow(0px 1px 2px rgba(0, 0, 0, 0.3));\n",
              "      fill: #FFFFFF;\n",
              "    }\n",
              "  </style>\n",
              "\n",
              "      <script>\n",
              "        const buttonEl =\n",
              "          document.querySelector('#df-278939f0-61d0-4250-8ee6-9d996bcbff3f button.colab-df-convert');\n",
              "        buttonEl.style.display =\n",
              "          google.colab.kernel.accessAllowed ? 'block' : 'none';\n",
              "\n",
              "        async function convertToInteractive(key) {\n",
              "          const element = document.querySelector('#df-278939f0-61d0-4250-8ee6-9d996bcbff3f');\n",
              "          const dataTable =\n",
              "            await google.colab.kernel.invokeFunction('convertToInteractive',\n",
              "                                                     [key], {});\n",
              "          if (!dataTable) return;\n",
              "\n",
              "          const docLinkHtml = 'Like what you see? Visit the ' +\n",
              "            '<a target=\"_blank\" href=https://colab.research.google.com/notebooks/data_table.ipynb>data table notebook</a>'\n",
              "            + ' to learn more about interactive tables.';\n",
              "          element.innerHTML = '';\n",
              "          dataTable['output_type'] = 'display_data';\n",
              "          await google.colab.output.renderOutput(dataTable, element);\n",
              "          const docLink = document.createElement('div');\n",
              "          docLink.innerHTML = docLinkHtml;\n",
              "          element.appendChild(docLink);\n",
              "        }\n",
              "      </script>\n",
              "    </div>\n",
              "  </div>\n",
              "  "
            ],
            "text/plain": [
              "     user               first_open  ...            enrolled_date liked\n",
              "0  235136  2012-12-27 02:14:51.273  ...                      NaN     0\n",
              "1  333588  2012-12-02 01:16:00.905  ...                      NaN     0\n",
              "2  254414  2013-03-19 19:19:09.157  ...                      NaN     1\n",
              "3  234192  2013-07-05 16:08:46.354  ...  2013-07-05 16:11:49.513     0\n",
              "4   51549  2013-02-26 18:50:48.661  ...  2013-02-26 18:56:37.841     1\n",
              "\n",
              "[5 rows x 12 columns]"
            ]
          },
          "execution_count": 2,
          "metadata": {},
          "output_type": "execute_result"
        }
      ],
      "source": [
        "url = \"https://raw.githubusercontent.com/jehasbani/directing-customers-to-subscription-through-app-behavior-analysis/main/data/appdata10.csv\"\n",
        "df = pd.read_csv(url)\n",
        "df.head()"
      ]
    },
    {
      "cell_type": "markdown",
      "metadata": {
        "id": "tgp_lE2m_O4_"
      },
      "source": [
        "Let's break down what each column represents:\n",
        "\n",
        "- **user**: unique numerical id for the users.\n",
        "- **first_open**: Date and time in which the user opens the app for the first time. It's a good way to see when the user joins.\n",
        "- **dayofweek**: Represents the day of the week in numerical form, i.e. 0 = Sunday, 1 = Monday, etc.\n",
        "- **hour**: The hour of the day.\n",
        "- **age**: user's age.\n",
        "- **screen_list**: Describes every single screen name the user visited in the 24 hour trial.\n",
        "- **numscreens**: Quantity of screens the user visited\n",
        "- **minigame**: Indicates whether the user played the mini-game.\n",
        "- **used_premium_features**: Indicates whether the user took advantage of the premium features during the trial.\n",
        "- **enrolled**: Target variable. Indicates whether the user got the paid version.\n",
        "- **enrolled_date**: Date and time in which the user got the paid membership.\n",
        "- **liked**: Indicates whether the user liked a feature."
      ]
    },
    {
      "cell_type": "markdown",
      "metadata": {
        "id": "31nWNbEj5BvS"
      },
      "source": [
        "## Exploratory Data Analysis"
      ]
    },
    {
      "cell_type": "markdown",
      "metadata": {
        "id": "forzBbzrItxy"
      },
      "source": [
        "Let's review the data types and check for nulls:"
      ]
    },
    {
      "cell_type": "code",
      "execution_count": null,
      "metadata": {
        "colab": {
          "base_uri": "https://localhost:8080/"
        },
        "id": "Vp1Rv0hHIakj",
        "outputId": "7f573830-ff58-4460-9b15-27f1af6d7c60"
      },
      "outputs": [
        {
          "name": "stdout",
          "output_type": "stream",
          "text": [
            "<class 'pandas.core.frame.DataFrame'>\n",
            "RangeIndex: 50000 entries, 0 to 49999\n",
            "Data columns (total 12 columns):\n",
            " #   Column                Non-Null Count  Dtype \n",
            "---  ------                --------------  ----- \n",
            " 0   user                  50000 non-null  int64 \n",
            " 1   first_open            50000 non-null  object\n",
            " 2   dayofweek             50000 non-null  int64 \n",
            " 3   hour                  50000 non-null  object\n",
            " 4   age                   50000 non-null  int64 \n",
            " 5   screen_list           50000 non-null  object\n",
            " 6   numscreens            50000 non-null  int64 \n",
            " 7   minigame              50000 non-null  int64 \n",
            " 8   used_premium_feature  50000 non-null  int64 \n",
            " 9   enrolled              50000 non-null  int64 \n",
            " 10  enrolled_date         31074 non-null  object\n",
            " 11  liked                 50000 non-null  int64 \n",
            "dtypes: int64(8), object(4)\n",
            "memory usage: 4.6+ MB\n"
          ]
        }
      ],
      "source": [
        "df.info()"
      ]
    },
    {
      "cell_type": "markdown",
      "metadata": {
        "id": "uPfofAQvIdd0"
      },
      "source": [
        "Since the field ``hour`` is of type String, we can convert it to numerical"
      ]
    },
    {
      "cell_type": "code",
      "execution_count": null,
      "metadata": {
        "id": "lLhpE07yInxT"
      },
      "outputs": [],
      "source": [
        "df['hour'] = df.hour.str.slice(1,3).astype(int)"
      ]
    },
    {
      "cell_type": "markdown",
      "metadata": {
        "id": "WzKmK7tUH2jy"
      },
      "source": [
        "We can start the analysis with a simple statistical description of the data."
      ]
    },
    {
      "cell_type": "code",
      "execution_count": null,
      "metadata": {
        "colab": {
          "base_uri": "https://localhost:8080/",
          "height": 364
        },
        "id": "fskK644V4reQ",
        "outputId": "5e95cc6e-f9d7-4e7f-913b-05a4cc682ac2"
      },
      "outputs": [
        {
          "data": {
            "text/html": [
              "\n",
              "  <div id=\"df-729305a4-f866-400c-ad60-b2d787ba73e8\">\n",
              "    <div class=\"colab-df-container\">\n",
              "      <div>\n",
              "<style scoped>\n",
              "    .dataframe tbody tr th:only-of-type {\n",
              "        vertical-align: middle;\n",
              "    }\n",
              "\n",
              "    .dataframe tbody tr th {\n",
              "        vertical-align: top;\n",
              "    }\n",
              "\n",
              "    .dataframe thead th {\n",
              "        text-align: right;\n",
              "    }\n",
              "</style>\n",
              "<table border=\"1\" class=\"dataframe\">\n",
              "  <thead>\n",
              "    <tr style=\"text-align: right;\">\n",
              "      <th></th>\n",
              "      <th>user</th>\n",
              "      <th>dayofweek</th>\n",
              "      <th>hour</th>\n",
              "      <th>age</th>\n",
              "      <th>numscreens</th>\n",
              "      <th>minigame</th>\n",
              "      <th>used_premium_feature</th>\n",
              "      <th>enrolled</th>\n",
              "      <th>liked</th>\n",
              "    </tr>\n",
              "  </thead>\n",
              "  <tbody>\n",
              "    <tr>\n",
              "      <th>count</th>\n",
              "      <td>50000.000000</td>\n",
              "      <td>50000.000000</td>\n",
              "      <td>50000.000000</td>\n",
              "      <td>50000.00000</td>\n",
              "      <td>50000.000000</td>\n",
              "      <td>50000.000000</td>\n",
              "      <td>50000.000000</td>\n",
              "      <td>50000.000000</td>\n",
              "      <td>50000.000000</td>\n",
              "    </tr>\n",
              "    <tr>\n",
              "      <th>mean</th>\n",
              "      <td>186889.729900</td>\n",
              "      <td>3.029860</td>\n",
              "      <td>12.557220</td>\n",
              "      <td>31.72436</td>\n",
              "      <td>21.095900</td>\n",
              "      <td>0.107820</td>\n",
              "      <td>0.172020</td>\n",
              "      <td>0.621480</td>\n",
              "      <td>0.165000</td>\n",
              "    </tr>\n",
              "    <tr>\n",
              "      <th>std</th>\n",
              "      <td>107768.520361</td>\n",
              "      <td>2.031997</td>\n",
              "      <td>7.438072</td>\n",
              "      <td>10.80331</td>\n",
              "      <td>15.728812</td>\n",
              "      <td>0.310156</td>\n",
              "      <td>0.377402</td>\n",
              "      <td>0.485023</td>\n",
              "      <td>0.371184</td>\n",
              "    </tr>\n",
              "    <tr>\n",
              "      <th>min</th>\n",
              "      <td>13.000000</td>\n",
              "      <td>0.000000</td>\n",
              "      <td>0.000000</td>\n",
              "      <td>16.00000</td>\n",
              "      <td>1.000000</td>\n",
              "      <td>0.000000</td>\n",
              "      <td>0.000000</td>\n",
              "      <td>0.000000</td>\n",
              "      <td>0.000000</td>\n",
              "    </tr>\n",
              "    <tr>\n",
              "      <th>25%</th>\n",
              "      <td>93526.750000</td>\n",
              "      <td>1.000000</td>\n",
              "      <td>5.000000</td>\n",
              "      <td>24.00000</td>\n",
              "      <td>10.000000</td>\n",
              "      <td>0.000000</td>\n",
              "      <td>0.000000</td>\n",
              "      <td>0.000000</td>\n",
              "      <td>0.000000</td>\n",
              "    </tr>\n",
              "    <tr>\n",
              "      <th>50%</th>\n",
              "      <td>187193.500000</td>\n",
              "      <td>3.000000</td>\n",
              "      <td>14.000000</td>\n",
              "      <td>29.00000</td>\n",
              "      <td>18.000000</td>\n",
              "      <td>0.000000</td>\n",
              "      <td>0.000000</td>\n",
              "      <td>1.000000</td>\n",
              "      <td>0.000000</td>\n",
              "    </tr>\n",
              "    <tr>\n",
              "      <th>75%</th>\n",
              "      <td>279984.250000</td>\n",
              "      <td>5.000000</td>\n",
              "      <td>19.000000</td>\n",
              "      <td>37.00000</td>\n",
              "      <td>28.000000</td>\n",
              "      <td>0.000000</td>\n",
              "      <td>0.000000</td>\n",
              "      <td>1.000000</td>\n",
              "      <td>0.000000</td>\n",
              "    </tr>\n",
              "    <tr>\n",
              "      <th>max</th>\n",
              "      <td>373662.000000</td>\n",
              "      <td>6.000000</td>\n",
              "      <td>23.000000</td>\n",
              "      <td>101.00000</td>\n",
              "      <td>325.000000</td>\n",
              "      <td>1.000000</td>\n",
              "      <td>1.000000</td>\n",
              "      <td>1.000000</td>\n",
              "      <td>1.000000</td>\n",
              "    </tr>\n",
              "  </tbody>\n",
              "</table>\n",
              "</div>\n",
              "      <button class=\"colab-df-convert\" onclick=\"convertToInteractive('df-729305a4-f866-400c-ad60-b2d787ba73e8')\"\n",
              "              title=\"Convert this dataframe to an interactive table.\"\n",
              "              style=\"display:none;\">\n",
              "        \n",
              "  <svg xmlns=\"http://www.w3.org/2000/svg\" height=\"24px\"viewBox=\"0 0 24 24\"\n",
              "       width=\"24px\">\n",
              "    <path d=\"M0 0h24v24H0V0z\" fill=\"none\"/>\n",
              "    <path d=\"M18.56 5.44l.94 2.06.94-2.06 2.06-.94-2.06-.94-.94-2.06-.94 2.06-2.06.94zm-11 1L8.5 8.5l.94-2.06 2.06-.94-2.06-.94L8.5 2.5l-.94 2.06-2.06.94zm10 10l.94 2.06.94-2.06 2.06-.94-2.06-.94-.94-2.06-.94 2.06-2.06.94z\"/><path d=\"M17.41 7.96l-1.37-1.37c-.4-.4-.92-.59-1.43-.59-.52 0-1.04.2-1.43.59L10.3 9.45l-7.72 7.72c-.78.78-.78 2.05 0 2.83L4 21.41c.39.39.9.59 1.41.59.51 0 1.02-.2 1.41-.59l7.78-7.78 2.81-2.81c.8-.78.8-2.07 0-2.86zM5.41 20L4 18.59l7.72-7.72 1.47 1.35L5.41 20z\"/>\n",
              "  </svg>\n",
              "      </button>\n",
              "      \n",
              "  <style>\n",
              "    .colab-df-container {\n",
              "      display:flex;\n",
              "      flex-wrap:wrap;\n",
              "      gap: 12px;\n",
              "    }\n",
              "\n",
              "    .colab-df-convert {\n",
              "      background-color: #E8F0FE;\n",
              "      border: none;\n",
              "      border-radius: 50%;\n",
              "      cursor: pointer;\n",
              "      display: none;\n",
              "      fill: #1967D2;\n",
              "      height: 32px;\n",
              "      padding: 0 0 0 0;\n",
              "      width: 32px;\n",
              "    }\n",
              "\n",
              "    .colab-df-convert:hover {\n",
              "      background-color: #E2EBFA;\n",
              "      box-shadow: 0px 1px 2px rgba(60, 64, 67, 0.3), 0px 1px 3px 1px rgba(60, 64, 67, 0.15);\n",
              "      fill: #174EA6;\n",
              "    }\n",
              "\n",
              "    [theme=dark] .colab-df-convert {\n",
              "      background-color: #3B4455;\n",
              "      fill: #D2E3FC;\n",
              "    }\n",
              "\n",
              "    [theme=dark] .colab-df-convert:hover {\n",
              "      background-color: #434B5C;\n",
              "      box-shadow: 0px 1px 3px 1px rgba(0, 0, 0, 0.15);\n",
              "      filter: drop-shadow(0px 1px 2px rgba(0, 0, 0, 0.3));\n",
              "      fill: #FFFFFF;\n",
              "    }\n",
              "  </style>\n",
              "\n",
              "      <script>\n",
              "        const buttonEl =\n",
              "          document.querySelector('#df-729305a4-f866-400c-ad60-b2d787ba73e8 button.colab-df-convert');\n",
              "        buttonEl.style.display =\n",
              "          google.colab.kernel.accessAllowed ? 'block' : 'none';\n",
              "\n",
              "        async function convertToInteractive(key) {\n",
              "          const element = document.querySelector('#df-729305a4-f866-400c-ad60-b2d787ba73e8');\n",
              "          const dataTable =\n",
              "            await google.colab.kernel.invokeFunction('convertToInteractive',\n",
              "                                                     [key], {});\n",
              "          if (!dataTable) return;\n",
              "\n",
              "          const docLinkHtml = 'Like what you see? Visit the ' +\n",
              "            '<a target=\"_blank\" href=https://colab.research.google.com/notebooks/data_table.ipynb>data table notebook</a>'\n",
              "            + ' to learn more about interactive tables.';\n",
              "          element.innerHTML = '';\n",
              "          dataTable['output_type'] = 'display_data';\n",
              "          await google.colab.output.renderOutput(dataTable, element);\n",
              "          const docLink = document.createElement('div');\n",
              "          docLink.innerHTML = docLinkHtml;\n",
              "          element.appendChild(docLink);\n",
              "        }\n",
              "      </script>\n",
              "    </div>\n",
              "  </div>\n",
              "  "
            ],
            "text/plain": [
              "                user     dayofweek  ...      enrolled         liked\n",
              "count   50000.000000  50000.000000  ...  50000.000000  50000.000000\n",
              "mean   186889.729900      3.029860  ...      0.621480      0.165000\n",
              "std    107768.520361      2.031997  ...      0.485023      0.371184\n",
              "min        13.000000      0.000000  ...      0.000000      0.000000\n",
              "25%     93526.750000      1.000000  ...      0.000000      0.000000\n",
              "50%    187193.500000      3.000000  ...      1.000000      0.000000\n",
              "75%    279984.250000      5.000000  ...      1.000000      0.000000\n",
              "max    373662.000000      6.000000  ...      1.000000      1.000000\n",
              "\n",
              "[8 rows x 9 columns]"
            ]
          },
          "execution_count": 5,
          "metadata": {},
          "output_type": "execute_result"
        }
      ],
      "source": [
        "df.describe()"
      ]
    },
    {
      "cell_type": "markdown",
      "metadata": {
        "id": "Y9D_8D6tLCLR"
      },
      "source": [
        "Let's divide the columns in numerical an non numerical, and create a dataframe that only has numerical variables (without user and enrolled) for plotting purposes."
      ]
    },
    {
      "cell_type": "code",
      "execution_count": null,
      "metadata": {
        "id": "mCUXZ9_QHyXv"
      },
      "outputs": [],
      "source": [
        "num_col = list(df.describe().columns)\n",
        "non_num_col = list(set(df.columns).difference(num_col))"
      ]
    },
    {
      "cell_type": "code",
      "execution_count": null,
      "metadata": {
        "id": "tgl8mi-dIQ3J"
      },
      "outputs": [],
      "source": [
        "df_numerical = df.copy()[num_col].drop(columns=['user','enrolled'])"
      ]
    },
    {
      "cell_type": "markdown",
      "metadata": {
        "id": "pNwKl_uuMWnH"
      },
      "source": [
        "### Histograms"
      ]
    },
    {
      "cell_type": "code",
      "execution_count": null,
      "metadata": {
        "colab": {
          "base_uri": "https://localhost:8080/",
          "height": 787
        },
        "id": "3ZlsFwDJK0Nh",
        "outputId": "dedf83c1-4879-4a29-8486-682e73d97083"
      },
      "outputs": [
        {
          "data": {
            "image/png": "[encoded data removed]",
            "text/plain": [
              "<Figure size 864x864 with 9 Axes>"
            ]
          },
          "metadata": {},
          "output_type": "display_data"
        }
      ],
      "source": [
        "fig,axes = plt.subplots(3,3, figsize=(12,12))\n",
        "\n",
        "axes = axes.ravel()\n",
        "for ax in axes:\n",
        "  ax.set_axis_off()\n",
        "\n",
        "plt.suptitle('Histogram of numerical features')\n",
        "for i,col in enumerate(df_numerical.columns):\n",
        "  axes[i].set_title(col)\n",
        "\n",
        "  vals = np.size(df_numerical[col].unique())\n",
        "  axes[i].hist(df_numerical[col].values, bins = vals, color = '#3f5d7d')\n",
        "  axes[i].set_axis_on()\n",
        "\n",
        "plt.subplots_adjust(hspace=0.4)\n"
      ]
    },
    {
      "cell_type": "markdown",
      "metadata": {
        "id": "Qxm6qiUScoVJ"
      },
      "source": [
        "Key histogram takeaways:\n",
        "\n",
        "- **dayofweek** is uniformly distributed, which gives us no insight as to whether there's a dependency on the day of the week.\n",
        "- **hour** shows a significant decrease in the app usage around certain hour (which if we coverted it to the correct time zone it would surely match the evening).\n",
        "- **age** show that the users are mostly between 20 and 40 years old, with a peaks at around 30 years old.\n",
        "- **numscreens** is heavily skewed.\n",
        "- Most users did not play the mini game, did not use the premium features and did not like the features."
      ]
    },
    {
      "cell_type": "markdown",
      "metadata": {
        "id": "vDCDHMHid9Xw"
      },
      "source": [
        "### Correlation with response variable\n",
        "\n",
        "Here'll search for correlations between the features and the response variable to see whether there is a linear relationship in the data we can exploit."
      ]
    },
    {
      "cell_type": "code",
      "execution_count": null,
      "metadata": {
        "colab": {
          "base_uri": "https://localhost:8080/",
          "height": 712
        },
        "id": "RYLYthSlLgzi",
        "outputId": "2564bf43-8c2c-4cbf-a99c-a353b97d905d"
      },
      "outputs": [
        {
          "data": {
            "text/plain": [
              "<matplotlib.axes._subplots.AxesSubplot at 0x7f40bd4923d0>"
            ]
          },
          "execution_count": 9,
          "metadata": {},
          "output_type": "execute_result"
        },
        {
          "data": {
            "image/png": "[encoded data removed]",
            "text/plain": [
              "<Figure size 1080x720 with 1 Axes>"
            ]
          },
          "metadata": {},
          "output_type": "display_data"
        }
      ],
      "source": [
        "df_numerical.corrwith(df.enrolled).plot.bar(figsize = (15,10), \n",
        "                                            title = \"Correlation with response variable\",\n",
        "                                            fontsize=15, rot=45, grid = True)"
      ]
    },
    {
      "cell_type": "markdown",
      "metadata": {
        "id": "JQA8XuuKk5Nz"
      },
      "source": [
        "Since the highest positive correlation is around 0.2 and the lowest negative correlation is around 0.15 we can't conclude there is a linear relationship between any of the features and the target.\n",
        "\n",
        "---"
      ]
    },
    {
      "cell_type": "markdown",
      "metadata": {
        "id": "TmUE87aZg4bt"
      },
      "source": [
        "### Correlation Matrix\n",
        "\n",
        "Now we'll search for correlation between the features to identify **multicollinearity**. Multicollinearity occurs when independent variables are correlated. This correlation is a problem because independent variables should be independent. If the degree of correlation between variables is high enough, it can cause problems when you train your model and interpret the results."
      ]
    },
    {
      "cell_type": "code",
      "execution_count": null,
      "metadata": {
        "colab": {
          "base_uri": "https://localhost:8080/",
          "height": 786
        },
        "id": "ogpFT9CdfyHm",
        "outputId": "2af5a28d-8f8a-434d-d0ad-996955dacfd1"
      },
      "outputs": [
        {
          "data": {
            "image/png": "[encoded data removed]",
            "text/plain": [
              "<Figure size 864x576 with 2 Axes>"
            ]
          },
          "metadata": {},
          "output_type": "display_data"
        }
      ],
      "source": [
        "sns.set(style='white',font_scale=2)\n",
        "\n",
        "# compute the correlation matrix\n",
        "corr = df_numerical.corr()\n",
        "\n",
        "# generate a mask for the upper triangle\n",
        "mask = np.zeros_like(corr,dtype=np.bool)\n",
        "mask[np.triu_indices_from(mask)] = True\n",
        "\n",
        "# set up the matplotlib figure\n",
        "f, ax = plt.subplots(figsize = (12,8))\n",
        "f.suptitle(\"Correlation Matrix\", fontsize=9)\n",
        "\n",
        "# generate a colormap\n",
        "cmap = sns.diverging_palette(220,10, as_cmap=True)\n",
        "\n",
        "# Draw the heatmap with the mask and correct aspect ratio\n",
        "\n",
        "sns.heatmap(corr,\n",
        "            mask=mask,\n",
        "            cmap=cmap, \n",
        "            vmax=1, vmin = -1, \n",
        "            center=0, \n",
        "            square=True, \n",
        "            linewidths=0.5, \n",
        "            cbar_kws={\"shrink\":0.5},\n",
        "             annot=True,fmt='.2f')\n",
        "plt.show()"
      ]
    },
    {
      "cell_type": "markdown",
      "metadata": {
        "id": "KMBultXnkkyZ"
      },
      "source": [
        "We see that the varibles are not correlated with each other, which means we can treat them as independent.\n",
        "\n",
        "---\n",
        "\n",
        "## Feature Engineering\n"
      ]
    },
    {
      "cell_type": "markdown",
      "metadata": {
        "id": "XpbvOVntkcYW"
      },
      "source": [
        "### Response Variable\n",
        "\n",
        "We will start by finetuning the response variable. It's important because we need to set a limit to when a user will become a paid member due to the fact that we need to have a way to validate the model in future data points (i.e if we set the time limit to a week, then we only need to wait for a week before we know if the prediction the model made was accurate). But first, we need to find the optimal cut-off time for this purpose:"
      ]
    },
    {
      "cell_type": "code",
      "execution_count": null,
      "metadata": {
        "colab": {
          "base_uri": "https://localhost:8080/"
        },
        "id": "8cAZ46G7iY0H",
        "outputId": "022e71c6-5d2c-488e-8098-3f626f21936e"
      },
      "outputs": [
        {
          "data": {
            "text/plain": [
              "user                     int64\n",
              "first_open              object\n",
              "dayofweek                int64\n",
              "hour                     int64\n",
              "age                      int64\n",
              "screen_list             object\n",
              "numscreens               int64\n",
              "minigame                 int64\n",
              "used_premium_feature     int64\n",
              "enrolled                 int64\n",
              "enrolled_date           object\n",
              "liked                    int64\n",
              "dtype: object"
            ]
          },
          "execution_count": 11,
          "metadata": {},
          "output_type": "execute_result"
        }
      ],
      "source": [
        "df.dtypes"
      ]
    },
    {
      "cell_type": "markdown",
      "metadata": {
        "id": "nBsYcT5VcfPp"
      },
      "source": [
        "We need to converte the date fields into datetime objects"
      ]
    },
    {
      "cell_type": "code",
      "execution_count": null,
      "metadata": {
        "id": "EwUW1RKzcDpz"
      },
      "outputs": [],
      "source": [
        "df.first_open = [parser.parse(row) for row in df.first_open]"
      ]
    },
    {
      "cell_type": "code",
      "execution_count": null,
      "metadata": {
        "id": "woj20-nBccMy"
      },
      "outputs": [],
      "source": [
        "df.enrolled_date = [parser.parse(row) if isinstance(row,str) else row for row in df.enrolled_date]"
      ]
    },
    {
      "cell_type": "code",
      "execution_count": null,
      "metadata": {
        "colab": {
          "base_uri": "https://localhost:8080/"
        },
        "id": "bqcxr8QqdGGa",
        "outputId": "67758630-eadb-40be-d370-ace9b19189e0"
      },
      "outputs": [
        {
          "data": {
            "text/plain": [
              "user                             int64\n",
              "first_open              datetime64[ns]\n",
              "dayofweek                        int64\n",
              "hour                             int64\n",
              "age                              int64\n",
              "screen_list                     object\n",
              "numscreens                       int64\n",
              "minigame                         int64\n",
              "used_premium_feature             int64\n",
              "enrolled                         int64\n",
              "enrolled_date           datetime64[ns]\n",
              "liked                            int64\n",
              "dtype: object"
            ]
          },
          "execution_count": 14,
          "metadata": {},
          "output_type": "execute_result"
        }
      ],
      "source": [
        "df.dtypes"
      ]
    },
    {
      "cell_type": "markdown",
      "metadata": {
        "id": "aSKmrbNGLiHA"
      },
      "source": [
        "Let's create the column `difference` that is nothing but the difference in hours between the parsed `enrolled_date` column and the parsed `first_open` column:"
      ]
    },
    {
      "cell_type": "code",
      "execution_count": null,
      "metadata": {
        "id": "VHA2j05gdlRE"
      },
      "outputs": [],
      "source": [
        "df['difference'] = (df['enrolled_date']-df['first_open']).astype('timedelta64[h]')"
      ]
    },
    {
      "cell_type": "markdown",
      "metadata": {
        "id": "Z-e1-Tj-Suwv"
      },
      "source": [
        "Now, we can see how the time difference is distributed:"
      ]
    },
    {
      "cell_type": "code",
      "execution_count": null,
      "metadata": {
        "colab": {
          "base_uri": "https://localhost:8080/",
          "height": 330
        },
        "id": "jLm30b3Tdy4n",
        "outputId": "470748e2-c92e-4bd1-8457-6fc9ccf3c13e"
      },
      "outputs": [
        {
          "data": {
            "image/png": "[encoded data removed]",
            "text/plain": [
              "<Figure size 1080x360 with 1 Axes>"
            ]
          },
          "metadata": {},
          "output_type": "display_data"
        }
      ],
      "source": [
        "plt.figure(figsize=(15,5))\n",
        "plt.hist(df['difference'].dropna())\n",
        "plt.title('Distribution of time since enrolled')\n",
        "plt.show()"
      ]
    },
    {
      "cell_type": "markdown",
      "metadata": {
        "id": "zeQ0RS8cS4XX"
      },
      "source": [
        "Most of the conversions happen in the first 500 hours, but let's reduce the range to the first 100 hours:"
      ]
    },
    {
      "cell_type": "code",
      "execution_count": null,
      "metadata": {
        "colab": {
          "base_uri": "https://localhost:8080/",
          "height": 330
        },
        "id": "TcD5MbfkeEMP",
        "outputId": "67348a63-f699-4656-c2ca-9f795ec38dc7"
      },
      "outputs": [
        {
          "data": {
            "image/png": "[encoded data removed]",
            "text/plain": [
              "<Figure size 1080x360 with 1 Axes>"
            ]
          },
          "metadata": {},
          "output_type": "display_data"
        }
      ],
      "source": [
        "plt.figure(figsize=(15,5))\n",
        "plt.hist(df['difference'].dropna(), range=[0,100])\n",
        "plt.title('Distribution of time since enrolled')\n",
        "plt.show()"
      ]
    },
    {
      "cell_type": "markdown",
      "metadata": {
        "id": "XN6nObmjTtNX"
      },
      "source": [
        "If we analyze this distribution, we see that we can set a cut-off time of 48 hours (two days) to the response variable and that will include the majority of the events based on the distribution we just analyzed. So, now we have to set all of the users in which `difference` > 48 to 0:\n"
      ]
    },
    {
      "cell_type": "code",
      "execution_count": null,
      "metadata": {
        "id": "Vuk-BnpVetuH"
      },
      "outputs": [],
      "source": [
        "df.loc[df.difference > 48 ,'enrolled'] = 0"
      ]
    },
    {
      "cell_type": "markdown",
      "metadata": {
        "id": "ABVY1goEVwQz"
      },
      "source": [
        "Now, we can drop the columns which are no longer needed"
      ]
    },
    {
      "cell_type": "code",
      "execution_count": null,
      "metadata": {
        "id": "Ca_cBoGsVC11"
      },
      "outputs": [],
      "source": [
        "df.drop(columns=['enrolled_date','first_open','difference'],inplace=True)"
      ]
    },
    {
      "cell_type": "markdown",
      "metadata": {
        "id": "PxmAwNWiWZ-J"
      },
      "source": [
        "### Screens\n",
        "\n",
        "The `screen_list` is a list that contains every single screen name the user visited in the 24 hour trial. We need to convert this list into a format the model can consume. We can achieve this by giving each screen its own column. However, since there are too many screens doing this one-hot-encoding would blow up our dataframe. \n",
        "\n",
        "In this case scenario we have a new dataset at our disposal which contains the screens people used the most. We are going to leverage this dataset in order to pick which columns should be encoded into our features."
      ]
    },
    {
      "cell_type": "code",
      "execution_count": null,
      "metadata": {
        "colab": {
          "base_uri": "https://localhost:8080/"
        },
        "id": "slcOCMOFVNJh",
        "outputId": "ca8376e4-e0d3-4027-ddd6-e829303d2f9f"
      },
      "outputs": [
        {
          "data": {
            "text/plain": [
              "0               Loan2\n",
              "1            location\n",
              "2        Institutions\n",
              "3    Credit3Container\n",
              "4         VerifyPhone\n",
              "Name: top_screens, dtype: object"
            ]
          },
          "execution_count": 23,
          "metadata": {},
          "output_type": "execute_result"
        }
      ],
      "source": [
        "top_screens_url = url = \"https://raw.githubusercontent.com/jehasbani/directing-customers-to-subscription-through-app-behavior-analysis/main/data/top_screens.csv\"\n",
        "top_screens = pd.read_csv(top_screens_url).top_screens\n",
        "top_screens.head()"
      ]
    },
    {
      "cell_type": "markdown",
      "metadata": {
        "id": "TAo3Irxlc6dt"
      },
      "source": [
        "Now we can map this top screens into our dataset:"
      ]
    },
    {
      "cell_type": "code",
      "execution_count": null,
      "metadata": {
        "id": "gKK0hidSWOZ6"
      },
      "outputs": [],
      "source": [
        "df[\"screen_list\"] = df.screen_list.astype(str)+\",\""
      ]
    },
    {
      "cell_type": "code",
      "execution_count": null,
      "metadata": {
        "id": "i-WmFJW9dCzM"
      },
      "outputs": [],
      "source": [
        "for sc in top_screens:\n",
        "  df[sc] = df.screen_list.str.contains(sc).astype(int)\n",
        "  df[\"screen_list\"] = df.screen_list.str.replace(sc+\",\",\"\")"
      ]
    },
    {
      "cell_type": "markdown",
      "metadata": {
        "id": "bjaU_bWQe-D7"
      },
      "source": [
        "We don't want to lose the information provided by the leftover screens that were not included in the top screens, so we create another column called `other` that contains how many other screens the user visited."
      ]
    },
    {
      "cell_type": "code",
      "execution_count": null,
      "metadata": {
        "id": "njgZYh0udgnW"
      },
      "outputs": [],
      "source": [
        "df[\"other\"] = df.screen_list.str.count(\",\")"
      ]
    },
    {
      "cell_type": "code",
      "execution_count": null,
      "metadata": {
        "id": "aFBxwoxfesqU"
      },
      "outputs": [],
      "source": [
        "df.drop(columns = [\"screen_list\"], inplace=True)"
      ]
    },
    {
      "cell_type": "markdown",
      "metadata": {
        "id": "EM6Tb_s5f154"
      },
      "source": [
        "### Funnels\n",
        "\n",
        "There are screens correlated to each other, and the form **funnels**. We should group these columns together so that we don't have correlated columns in our dataset."
      ]
    },
    {
      "cell_type": "code",
      "execution_count": null,
      "metadata": {
        "colab": {
          "base_uri": "https://localhost:8080/"
        },
        "id": "WZo-TioshXtS",
        "outputId": "c08fb4d8-e261-4512-a5fc-46b1f91f9585"
      },
      "outputs": [
        {
          "data": {
            "text/plain": [
              "array(['AccountView', 'Alerts', 'BankVerification', 'CC1', 'CC1Category',\n",
              "       'CC3', 'Credit1', 'Credit2', 'Credit3', 'Credit3Container',\n",
              "       'Credit3Dashboard', 'Cycle', 'EditProfile', 'Finances',\n",
              "       'Institutions', 'Leaderboard', 'ListPicker', 'Loan', 'Loan2',\n",
              "       'Loan3', 'Loan4', 'Login', 'NetworkFailure', 'ProfileChildren ',\n",
              "       'ProfileEducation', 'ProfileEducationMajor',\n",
              "       'ProfileEmploymentLength', 'ProfileJobTitle',\n",
              "       'ProfileMaritalStatus', 'ProfilePage', 'ResendToken',\n",
              "       'RewardDetail', 'Rewards', 'RewardsContainer', 'Saving1',\n",
              "       'Saving10', 'Saving2', 'Saving2Amount', 'Saving4', 'Saving5',\n",
              "       'Saving6', 'Saving7', 'Saving8', 'Saving9', 'SecurityModal',\n",
              "       'Splash', 'TransactionList', 'VerifyAnnualIncome', 'VerifyCountry',\n",
              "       'VerifyDateOfBirth', 'VerifyHousing', 'VerifyHousingAmount',\n",
              "       'VerifyIncomeType', 'VerifyMobile', 'VerifyPhone', 'WebView',\n",
              "       'idscreen', 'location'], dtype=object)"
            ]
          },
          "execution_count": 28,
          "metadata": {},
          "output_type": "execute_result"
        }
      ],
      "source": [
        "np.sort(top_screens)"
      ]
    },
    {
      "cell_type": "code",
      "execution_count": null,
      "metadata": {
        "id": "pAs7qpjuhbeT"
      },
      "outputs": [],
      "source": [
        "# Credit card funnel\n",
        "cc_screens = ['CC1', \n",
        "              'CC1Category',\n",
        "              'CC3']\n",
        "df[\"cc_count\"] = df[cc_screens].sum(axis=1)\n",
        "df.drop(columns = cc_screens, inplace=True)"
      ]
    },
    {
      "cell_type": "code",
      "execution_count": null,
      "metadata": {
        "id": "yEm3xwr5hvRV"
      },
      "outputs": [],
      "source": [
        "# Credit Funnel\n",
        "credit_screens = ['Credit1', \n",
        "                  'Credit2',\n",
        "                  'Credit3', \n",
        "                  'Credit3Container',\n",
        "                  'Credit3Dashboard']\n",
        "df[\"credit_count\"] = df[credit_screens].sum(axis=1)\n",
        "df.drop(columns = credit_screens, inplace=True)"
      ]
    },
    {
      "cell_type": "code",
      "execution_count": null,
      "metadata": {
        "id": "x4lPNum5iEtA"
      },
      "outputs": [],
      "source": [
        "# Loan Funnel\n",
        "loan_screens = ['Loan', \n",
        "                'Loan2', \n",
        "                'Loan3', \n",
        "                'Loan4']\n",
        "df[\"loan_count\"] = df[loan_screens].sum(axis=1)\n",
        "df.drop(columns = loan_screens, inplace=True)"
      ]
    },
    {
      "cell_type": "code",
      "execution_count": null,
      "metadata": {
        "id": "xJgrUc6LfbmO"
      },
      "outputs": [],
      "source": [
        "# Savings funnel\n",
        "savings_screens = [\"Saving1\", \n",
        "                   \"Saving2\", \n",
        "                   \"Saving2Amount\", \n",
        "                   \"Saving4\", \n",
        "                   \"Saving5\", \n",
        "                   \"Saving6\", \n",
        "                   \"Saving7\",\n",
        "                   \"Saving8\",\n",
        "                   \"Saving9\",\n",
        "                   \"Saving10\"]\n",
        "df[\"savings_count\"] = df[savings_screens].sum(axis=1)\n",
        "df.drop(columns = savings_screens, inplace=True)"
      ]
    },
    {
      "cell_type": "markdown",
      "metadata": {
        "id": "yiMPnVtejNSl"
      },
      "source": [
        "Let's see what we ended up having:"
      ]
    },
    {
      "cell_type": "code",
      "execution_count": null,
      "metadata": {
        "colab": {
          "base_uri": "https://localhost:8080/",
          "height": 270
        },
        "id": "0zKV95uxgm3V",
        "outputId": "1c96ab1e-4520-4ab0-8659-dfafef6ca4fa"
      },
      "outputs": [
        {
          "data": {
            "text/html": [
              "\n",
              "  <div id=\"df-8de0fe19-c594-4a05-828f-ac8233bfc144\">\n",
              "    <div class=\"colab-df-container\">\n",
              "      <div>\n",
              "<style scoped>\n",
              "    .dataframe tbody tr th:only-of-type {\n",
              "        vertical-align: middle;\n",
              "    }\n",
              "\n",
              "    .dataframe tbody tr th {\n",
              "        vertical-align: top;\n",
              "    }\n",
              "\n",
              "    .dataframe thead th {\n",
              "        text-align: right;\n",
              "    }\n",
              "</style>\n",
              "<table border=\"1\" class=\"dataframe\">\n",
              "  <thead>\n",
              "    <tr style=\"text-align: right;\">\n",
              "      <th></th>\n",
              "      <th>user</th>\n",
              "      <th>dayofweek</th>\n",
              "      <th>hour</th>\n",
              "      <th>age</th>\n",
              "      <th>numscreens</th>\n",
              "      <th>minigame</th>\n",
              "      <th>used_premium_feature</th>\n",
              "      <th>enrolled</th>\n",
              "      <th>liked</th>\n",
              "      <th>location</th>\n",
              "      <th>Institutions</th>\n",
              "      <th>VerifyPhone</th>\n",
              "      <th>BankVerification</th>\n",
              "      <th>VerifyDateOfBirth</th>\n",
              "      <th>ProfilePage</th>\n",
              "      <th>VerifyCountry</th>\n",
              "      <th>Cycle</th>\n",
              "      <th>idscreen</th>\n",
              "      <th>Splash</th>\n",
              "      <th>RewardsContainer</th>\n",
              "      <th>EditProfile</th>\n",
              "      <th>Finances</th>\n",
              "      <th>Alerts</th>\n",
              "      <th>Leaderboard</th>\n",
              "      <th>VerifyMobile</th>\n",
              "      <th>VerifyHousing</th>\n",
              "      <th>RewardDetail</th>\n",
              "      <th>VerifyHousingAmount</th>\n",
              "      <th>ProfileMaritalStatus</th>\n",
              "      <th>ProfileChildren</th>\n",
              "      <th>ProfileEducation</th>\n",
              "      <th>ProfileEducationMajor</th>\n",
              "      <th>Rewards</th>\n",
              "      <th>AccountView</th>\n",
              "      <th>VerifyAnnualIncome</th>\n",
              "      <th>VerifyIncomeType</th>\n",
              "      <th>ProfileJobTitle</th>\n",
              "      <th>Login</th>\n",
              "      <th>ProfileEmploymentLength</th>\n",
              "      <th>WebView</th>\n",
              "      <th>SecurityModal</th>\n",
              "      <th>ResendToken</th>\n",
              "      <th>TransactionList</th>\n",
              "      <th>NetworkFailure</th>\n",
              "      <th>ListPicker</th>\n",
              "      <th>other</th>\n",
              "      <th>cc_count</th>\n",
              "      <th>credit_count</th>\n",
              "      <th>loan_count</th>\n",
              "      <th>savings_count</th>\n",
              "    </tr>\n",
              "  </thead>\n",
              "  <tbody>\n",
              "    <tr>\n",
              "      <th>0</th>\n",
              "      <td>235136</td>\n",
              "      <td>3</td>\n",
              "      <td>2</td>\n",
              "      <td>23</td>\n",
              "      <td>15</td>\n",
              "      <td>0</td>\n",
              "      <td>0</td>\n",
              "      <td>0</td>\n",
              "      <td>0</td>\n",
              "      <td>0</td>\n",
              "      <td>0</td>\n",
              "      <td>1</td>\n",
              "      <td>0</td>\n",
              "      <td>1</td>\n",
              "      <td>0</td>\n",
              "      <td>0</td>\n",
              "      <td>1</td>\n",
              "      <td>1</td>\n",
              "      <td>0</td>\n",
              "      <td>0</td>\n",
              "      <td>0</td>\n",
              "      <td>0</td>\n",
              "      <td>0</td>\n",
              "      <td>0</td>\n",
              "      <td>0</td>\n",
              "      <td>0</td>\n",
              "      <td>0</td>\n",
              "      <td>0</td>\n",
              "      <td>0</td>\n",
              "      <td>0</td>\n",
              "      <td>0</td>\n",
              "      <td>0</td>\n",
              "      <td>0</td>\n",
              "      <td>0</td>\n",
              "      <td>0</td>\n",
              "      <td>0</td>\n",
              "      <td>0</td>\n",
              "      <td>1</td>\n",
              "      <td>0</td>\n",
              "      <td>0</td>\n",
              "      <td>0</td>\n",
              "      <td>0</td>\n",
              "      <td>0</td>\n",
              "      <td>0</td>\n",
              "      <td>0</td>\n",
              "      <td>7</td>\n",
              "      <td>0</td>\n",
              "      <td>0</td>\n",
              "      <td>1</td>\n",
              "      <td>0</td>\n",
              "    </tr>\n",
              "    <tr>\n",
              "      <th>1</th>\n",
              "      <td>333588</td>\n",
              "      <td>6</td>\n",
              "      <td>1</td>\n",
              "      <td>24</td>\n",
              "      <td>13</td>\n",
              "      <td>0</td>\n",
              "      <td>0</td>\n",
              "      <td>0</td>\n",
              "      <td>0</td>\n",
              "      <td>1</td>\n",
              "      <td>1</td>\n",
              "      <td>1</td>\n",
              "      <td>0</td>\n",
              "      <td>1</td>\n",
              "      <td>0</td>\n",
              "      <td>1</td>\n",
              "      <td>0</td>\n",
              "      <td>0</td>\n",
              "      <td>0</td>\n",
              "      <td>0</td>\n",
              "      <td>0</td>\n",
              "      <td>0</td>\n",
              "      <td>0</td>\n",
              "      <td>0</td>\n",
              "      <td>0</td>\n",
              "      <td>0</td>\n",
              "      <td>0</td>\n",
              "      <td>0</td>\n",
              "      <td>0</td>\n",
              "      <td>0</td>\n",
              "      <td>0</td>\n",
              "      <td>0</td>\n",
              "      <td>0</td>\n",
              "      <td>0</td>\n",
              "      <td>0</td>\n",
              "      <td>0</td>\n",
              "      <td>0</td>\n",
              "      <td>0</td>\n",
              "      <td>0</td>\n",
              "      <td>0</td>\n",
              "      <td>0</td>\n",
              "      <td>0</td>\n",
              "      <td>0</td>\n",
              "      <td>0</td>\n",
              "      <td>0</td>\n",
              "      <td>5</td>\n",
              "      <td>0</td>\n",
              "      <td>0</td>\n",
              "      <td>1</td>\n",
              "      <td>0</td>\n",
              "    </tr>\n",
              "    <tr>\n",
              "      <th>2</th>\n",
              "      <td>254414</td>\n",
              "      <td>1</td>\n",
              "      <td>19</td>\n",
              "      <td>23</td>\n",
              "      <td>3</td>\n",
              "      <td>0</td>\n",
              "      <td>1</td>\n",
              "      <td>0</td>\n",
              "      <td>1</td>\n",
              "      <td>0</td>\n",
              "      <td>0</td>\n",
              "      <td>0</td>\n",
              "      <td>0</td>\n",
              "      <td>0</td>\n",
              "      <td>0</td>\n",
              "      <td>0</td>\n",
              "      <td>1</td>\n",
              "      <td>0</td>\n",
              "      <td>1</td>\n",
              "      <td>0</td>\n",
              "      <td>0</td>\n",
              "      <td>0</td>\n",
              "      <td>0</td>\n",
              "      <td>0</td>\n",
              "      <td>0</td>\n",
              "      <td>0</td>\n",
              "      <td>0</td>\n",
              "      <td>0</td>\n",
              "      <td>0</td>\n",
              "      <td>0</td>\n",
              "      <td>0</td>\n",
              "      <td>0</td>\n",
              "      <td>0</td>\n",
              "      <td>0</td>\n",
              "      <td>0</td>\n",
              "      <td>0</td>\n",
              "      <td>0</td>\n",
              "      <td>0</td>\n",
              "      <td>0</td>\n",
              "      <td>0</td>\n",
              "      <td>0</td>\n",
              "      <td>0</td>\n",
              "      <td>0</td>\n",
              "      <td>0</td>\n",
              "      <td>0</td>\n",
              "      <td>0</td>\n",
              "      <td>0</td>\n",
              "      <td>0</td>\n",
              "      <td>1</td>\n",
              "      <td>0</td>\n",
              "    </tr>\n",
              "    <tr>\n",
              "      <th>3</th>\n",
              "      <td>234192</td>\n",
              "      <td>4</td>\n",
              "      <td>16</td>\n",
              "      <td>28</td>\n",
              "      <td>40</td>\n",
              "      <td>0</td>\n",
              "      <td>0</td>\n",
              "      <td>1</td>\n",
              "      <td>0</td>\n",
              "      <td>1</td>\n",
              "      <td>0</td>\n",
              "      <td>1</td>\n",
              "      <td>0</td>\n",
              "      <td>1</td>\n",
              "      <td>0</td>\n",
              "      <td>0</td>\n",
              "      <td>0</td>\n",
              "      <td>0</td>\n",
              "      <td>0</td>\n",
              "      <td>0</td>\n",
              "      <td>0</td>\n",
              "      <td>1</td>\n",
              "      <td>0</td>\n",
              "      <td>1</td>\n",
              "      <td>0</td>\n",
              "      <td>0</td>\n",
              "      <td>1</td>\n",
              "      <td>0</td>\n",
              "      <td>0</td>\n",
              "      <td>0</td>\n",
              "      <td>0</td>\n",
              "      <td>0</td>\n",
              "      <td>1</td>\n",
              "      <td>0</td>\n",
              "      <td>0</td>\n",
              "      <td>0</td>\n",
              "      <td>0</td>\n",
              "      <td>0</td>\n",
              "      <td>0</td>\n",
              "      <td>0</td>\n",
              "      <td>0</td>\n",
              "      <td>0</td>\n",
              "      <td>0</td>\n",
              "      <td>0</td>\n",
              "      <td>0</td>\n",
              "      <td>6</td>\n",
              "      <td>0</td>\n",
              "      <td>3</td>\n",
              "      <td>1</td>\n",
              "      <td>0</td>\n",
              "    </tr>\n",
              "    <tr>\n",
              "      <th>4</th>\n",
              "      <td>51549</td>\n",
              "      <td>1</td>\n",
              "      <td>18</td>\n",
              "      <td>31</td>\n",
              "      <td>32</td>\n",
              "      <td>0</td>\n",
              "      <td>0</td>\n",
              "      <td>1</td>\n",
              "      <td>1</td>\n",
              "      <td>0</td>\n",
              "      <td>1</td>\n",
              "      <td>1</td>\n",
              "      <td>1</td>\n",
              "      <td>0</td>\n",
              "      <td>0</td>\n",
              "      <td>1</td>\n",
              "      <td>1</td>\n",
              "      <td>1</td>\n",
              "      <td>0</td>\n",
              "      <td>0</td>\n",
              "      <td>0</td>\n",
              "      <td>0</td>\n",
              "      <td>0</td>\n",
              "      <td>0</td>\n",
              "      <td>0</td>\n",
              "      <td>0</td>\n",
              "      <td>0</td>\n",
              "      <td>0</td>\n",
              "      <td>0</td>\n",
              "      <td>0</td>\n",
              "      <td>0</td>\n",
              "      <td>0</td>\n",
              "      <td>0</td>\n",
              "      <td>0</td>\n",
              "      <td>0</td>\n",
              "      <td>0</td>\n",
              "      <td>0</td>\n",
              "      <td>0</td>\n",
              "      <td>0</td>\n",
              "      <td>0</td>\n",
              "      <td>0</td>\n",
              "      <td>0</td>\n",
              "      <td>0</td>\n",
              "      <td>0</td>\n",
              "      <td>0</td>\n",
              "      <td>10</td>\n",
              "      <td>0</td>\n",
              "      <td>2</td>\n",
              "      <td>1</td>\n",
              "      <td>0</td>\n",
              "    </tr>\n",
              "  </tbody>\n",
              "</table>\n",
              "</div>\n",
              "      <button class=\"colab-df-convert\" onclick=\"convertToInteractive('df-8de0fe19-c594-4a05-828f-ac8233bfc144')\"\n",
              "              title=\"Convert this dataframe to an interactive table.\"\n",
              "              style=\"display:none;\">\n",
              "        \n",
              "  <svg xmlns=\"http://www.w3.org/2000/svg\" height=\"24px\"viewBox=\"0 0 24 24\"\n",
              "       width=\"24px\">\n",
              "    <path d=\"M0 0h24v24H0V0z\" fill=\"none\"/>\n",
              "    <path d=\"M18.56 5.44l.94 2.06.94-2.06 2.06-.94-2.06-.94-.94-2.06-.94 2.06-2.06.94zm-11 1L8.5 8.5l.94-2.06 2.06-.94-2.06-.94L8.5 2.5l-.94 2.06-2.06.94zm10 10l.94 2.06.94-2.06 2.06-.94-2.06-.94-.94-2.06-.94 2.06-2.06.94z\"/><path d=\"M17.41 7.96l-1.37-1.37c-.4-.4-.92-.59-1.43-.59-.52 0-1.04.2-1.43.59L10.3 9.45l-7.72 7.72c-.78.78-.78 2.05 0 2.83L4 21.41c.39.39.9.59 1.41.59.51 0 1.02-.2 1.41-.59l7.78-7.78 2.81-2.81c.8-.78.8-2.07 0-2.86zM5.41 20L4 18.59l7.72-7.72 1.47 1.35L5.41 20z\"/>\n",
              "  </svg>\n",
              "      </button>\n",
              "      \n",
              "  <style>\n",
              "    .colab-df-container {\n",
              "      display:flex;\n",
              "      flex-wrap:wrap;\n",
              "      gap: 12px;\n",
              "    }\n",
              "\n",
              "    .colab-df-convert {\n",
              "      background-color: #E8F0FE;\n",
              "      border: none;\n",
              "      border-radius: 50%;\n",
              "      cursor: pointer;\n",
              "      display: none;\n",
              "      fill: #1967D2;\n",
              "      height: 32px;\n",
              "      padding: 0 0 0 0;\n",
              "      width: 32px;\n",
              "    }\n",
              "\n",
              "    .colab-df-convert:hover {\n",
              "      background-color: #E2EBFA;\n",
              "      box-shadow: 0px 1px 2px rgba(60, 64, 67, 0.3), 0px 1px 3px 1px rgba(60, 64, 67, 0.15);\n",
              "      fill: #174EA6;\n",
              "    }\n",
              "\n",
              "    [theme=dark] .colab-df-convert {\n",
              "      background-color: #3B4455;\n",
              "      fill: #D2E3FC;\n",
              "    }\n",
              "\n",
              "    [theme=dark] .colab-df-convert:hover {\n",
              "      background-color: #434B5C;\n",
              "      box-shadow: 0px 1px 3px 1px rgba(0, 0, 0, 0.15);\n",
              "      filter: drop-shadow(0px 1px 2px rgba(0, 0, 0, 0.3));\n",
              "      fill: #FFFFFF;\n",
              "    }\n",
              "  </style>\n",
              "\n",
              "      <script>\n",
              "        const buttonEl =\n",
              "          document.querySelector('#df-8de0fe19-c594-4a05-828f-ac8233bfc144 button.colab-df-convert');\n",
              "        buttonEl.style.display =\n",
              "          google.colab.kernel.accessAllowed ? 'block' : 'none';\n",
              "\n",
              "        async function convertToInteractive(key) {\n",
              "          const element = document.querySelector('#df-8de0fe19-c594-4a05-828f-ac8233bfc144');\n",
              "          const dataTable =\n",
              "            await google.colab.kernel.invokeFunction('convertToInteractive',\n",
              "                                                     [key], {});\n",
              "          if (!dataTable) return;\n",
              "\n",
              "          const docLinkHtml = 'Like what you see? Visit the ' +\n",
              "            '<a target=\"_blank\" href=https://colab.research.google.com/notebooks/data_table.ipynb>data table notebook</a>'\n",
              "            + ' to learn more about interactive tables.';\n",
              "          element.innerHTML = '';\n",
              "          dataTable['output_type'] = 'display_data';\n",
              "          await google.colab.output.renderOutput(dataTable, element);\n",
              "          const docLink = document.createElement('div');\n",
              "          docLink.innerHTML = docLinkHtml;\n",
              "          element.appendChild(docLink);\n",
              "        }\n",
              "      </script>\n",
              "    </div>\n",
              "  </div>\n",
              "  "
            ],
            "text/plain": [
              "     user  dayofweek  hour  ...  credit_count  loan_count  savings_count\n",
              "0  235136          3     2  ...             0           1              0\n",
              "1  333588          6     1  ...             0           1              0\n",
              "2  254414          1    19  ...             0           1              0\n",
              "3  234192          4    16  ...             3           1              0\n",
              "4   51549          1    18  ...             2           1              0\n",
              "\n",
              "[5 rows x 50 columns]"
            ]
          },
          "execution_count": 33,
          "metadata": {},
          "output_type": "execute_result"
        }
      ],
      "source": [
        "df.head()"
      ]
    },
    {
      "cell_type": "code",
      "execution_count": null,
      "metadata": {
        "colab": {
          "base_uri": "https://localhost:8080/",
          "height": 364
        },
        "id": "jLhE6HdJgz-3",
        "outputId": "a9964a5d-ca49-4a63-a1eb-581ba28ab0d0"
      },
      "outputs": [
        {
          "data": {
            "text/html": [
              "\n",
              "  <div id=\"df-2b2d730f-b29b-4036-ab96-b98745f11c95\">\n",
              "    <div class=\"colab-df-container\">\n",
              "      <div>\n",
              "<style scoped>\n",
              "    .dataframe tbody tr th:only-of-type {\n",
              "        vertical-align: middle;\n",
              "    }\n",
              "\n",
              "    .dataframe tbody tr th {\n",
              "        vertical-align: top;\n",
              "    }\n",
              "\n",
              "    .dataframe thead th {\n",
              "        text-align: right;\n",
              "    }\n",
              "</style>\n",
              "<table border=\"1\" class=\"dataframe\">\n",
              "  <thead>\n",
              "    <tr style=\"text-align: right;\">\n",
              "      <th></th>\n",
              "      <th>user</th>\n",
              "      <th>dayofweek</th>\n",
              "      <th>hour</th>\n",
              "      <th>age</th>\n",
              "      <th>numscreens</th>\n",
              "      <th>minigame</th>\n",
              "      <th>used_premium_feature</th>\n",
              "      <th>enrolled</th>\n",
              "      <th>liked</th>\n",
              "      <th>location</th>\n",
              "      <th>Institutions</th>\n",
              "      <th>VerifyPhone</th>\n",
              "      <th>BankVerification</th>\n",
              "      <th>VerifyDateOfBirth</th>\n",
              "      <th>ProfilePage</th>\n",
              "      <th>VerifyCountry</th>\n",
              "      <th>Cycle</th>\n",
              "      <th>idscreen</th>\n",
              "      <th>Splash</th>\n",
              "      <th>RewardsContainer</th>\n",
              "      <th>EditProfile</th>\n",
              "      <th>Finances</th>\n",
              "      <th>Alerts</th>\n",
              "      <th>Leaderboard</th>\n",
              "      <th>VerifyMobile</th>\n",
              "      <th>VerifyHousing</th>\n",
              "      <th>RewardDetail</th>\n",
              "      <th>VerifyHousingAmount</th>\n",
              "      <th>ProfileMaritalStatus</th>\n",
              "      <th>ProfileChildren</th>\n",
              "      <th>ProfileEducation</th>\n",
              "      <th>ProfileEducationMajor</th>\n",
              "      <th>Rewards</th>\n",
              "      <th>AccountView</th>\n",
              "      <th>VerifyAnnualIncome</th>\n",
              "      <th>VerifyIncomeType</th>\n",
              "      <th>ProfileJobTitle</th>\n",
              "      <th>Login</th>\n",
              "      <th>ProfileEmploymentLength</th>\n",
              "      <th>WebView</th>\n",
              "      <th>SecurityModal</th>\n",
              "      <th>ResendToken</th>\n",
              "      <th>TransactionList</th>\n",
              "      <th>NetworkFailure</th>\n",
              "      <th>ListPicker</th>\n",
              "      <th>other</th>\n",
              "      <th>cc_count</th>\n",
              "      <th>credit_count</th>\n",
              "      <th>loan_count</th>\n",
              "      <th>savings_count</th>\n",
              "    </tr>\n",
              "  </thead>\n",
              "  <tbody>\n",
              "    <tr>\n",
              "      <th>count</th>\n",
              "      <td>50000.000000</td>\n",
              "      <td>50000.000000</td>\n",
              "      <td>50000.000000</td>\n",
              "      <td>50000.00000</td>\n",
              "      <td>50000.000000</td>\n",
              "      <td>50000.000000</td>\n",
              "      <td>50000.000000</td>\n",
              "      <td>50000.000000</td>\n",
              "      <td>50000.000000</td>\n",
              "      <td>50000.000000</td>\n",
              "      <td>50000.000000</td>\n",
              "      <td>50000.000000</td>\n",
              "      <td>50000.000000</td>\n",
              "      <td>50000.000000</td>\n",
              "      <td>50000.000000</td>\n",
              "      <td>50000.000000</td>\n",
              "      <td>50000.000000</td>\n",
              "      <td>50000.000000</td>\n",
              "      <td>50000.000000</td>\n",
              "      <td>50000.000000</td>\n",
              "      <td>50000.000000</td>\n",
              "      <td>50000.000000</td>\n",
              "      <td>50000.000000</td>\n",
              "      <td>50000.000000</td>\n",
              "      <td>50000.000000</td>\n",
              "      <td>50000.000000</td>\n",
              "      <td>50000.000000</td>\n",
              "      <td>50000.000000</td>\n",
              "      <td>50000.000000</td>\n",
              "      <td>50000.0</td>\n",
              "      <td>50000.0000</td>\n",
              "      <td>50000.000000</td>\n",
              "      <td>50000.000000</td>\n",
              "      <td>50000.000000</td>\n",
              "      <td>50000.000000</td>\n",
              "      <td>50000.000000</td>\n",
              "      <td>50000.000000</td>\n",
              "      <td>50000.000000</td>\n",
              "      <td>50000.000000</td>\n",
              "      <td>50000.000000</td>\n",
              "      <td>50000.000000</td>\n",
              "      <td>50000.000000</td>\n",
              "      <td>50000.000000</td>\n",
              "      <td>50000.000000</td>\n",
              "      <td>50000.000000</td>\n",
              "      <td>50000.000000</td>\n",
              "      <td>50000.000000</td>\n",
              "      <td>50000.00000</td>\n",
              "      <td>50000.000000</td>\n",
              "      <td>50000.000000</td>\n",
              "    </tr>\n",
              "    <tr>\n",
              "      <th>mean</th>\n",
              "      <td>186889.729900</td>\n",
              "      <td>3.029860</td>\n",
              "      <td>12.557220</td>\n",
              "      <td>31.72436</td>\n",
              "      <td>21.095900</td>\n",
              "      <td>0.107820</td>\n",
              "      <td>0.172020</td>\n",
              "      <td>0.497000</td>\n",
              "      <td>0.165000</td>\n",
              "      <td>0.517760</td>\n",
              "      <td>0.293660</td>\n",
              "      <td>0.524600</td>\n",
              "      <td>0.319540</td>\n",
              "      <td>0.473480</td>\n",
              "      <td>0.158040</td>\n",
              "      <td>0.423160</td>\n",
              "      <td>0.364860</td>\n",
              "      <td>0.340700</td>\n",
              "      <td>0.200760</td>\n",
              "      <td>0.084000</td>\n",
              "      <td>0.048980</td>\n",
              "      <td>0.076540</td>\n",
              "      <td>0.073720</td>\n",
              "      <td>0.051520</td>\n",
              "      <td>0.053860</td>\n",
              "      <td>0.045080</td>\n",
              "      <td>0.030920</td>\n",
              "      <td>0.041420</td>\n",
              "      <td>0.047560</td>\n",
              "      <td>0.0</td>\n",
              "      <td>0.0455</td>\n",
              "      <td>0.041060</td>\n",
              "      <td>0.024420</td>\n",
              "      <td>0.026220</td>\n",
              "      <td>0.023580</td>\n",
              "      <td>0.031760</td>\n",
              "      <td>0.022460</td>\n",
              "      <td>0.029800</td>\n",
              "      <td>0.021160</td>\n",
              "      <td>0.096560</td>\n",
              "      <td>0.014220</td>\n",
              "      <td>0.013340</td>\n",
              "      <td>0.013400</td>\n",
              "      <td>0.008200</td>\n",
              "      <td>0.007580</td>\n",
              "      <td>6.214260</td>\n",
              "      <td>0.176860</td>\n",
              "      <td>0.92776</td>\n",
              "      <td>0.788400</td>\n",
              "      <td>0.365020</td>\n",
              "    </tr>\n",
              "    <tr>\n",
              "      <th>std</th>\n",
              "      <td>107768.520361</td>\n",
              "      <td>2.031997</td>\n",
              "      <td>7.438072</td>\n",
              "      <td>10.80331</td>\n",
              "      <td>15.728812</td>\n",
              "      <td>0.310156</td>\n",
              "      <td>0.377402</td>\n",
              "      <td>0.499996</td>\n",
              "      <td>0.371184</td>\n",
              "      <td>0.499689</td>\n",
              "      <td>0.455443</td>\n",
              "      <td>0.499399</td>\n",
              "      <td>0.466303</td>\n",
              "      <td>0.499301</td>\n",
              "      <td>0.364782</td>\n",
              "      <td>0.494065</td>\n",
              "      <td>0.481396</td>\n",
              "      <td>0.473949</td>\n",
              "      <td>0.400573</td>\n",
              "      <td>0.277391</td>\n",
              "      <td>0.215828</td>\n",
              "      <td>0.265863</td>\n",
              "      <td>0.261317</td>\n",
              "      <td>0.221058</td>\n",
              "      <td>0.225743</td>\n",
              "      <td>0.207482</td>\n",
              "      <td>0.173103</td>\n",
              "      <td>0.199262</td>\n",
              "      <td>0.212836</td>\n",
              "      <td>0.0</td>\n",
              "      <td>0.2084</td>\n",
              "      <td>0.198431</td>\n",
              "      <td>0.154351</td>\n",
              "      <td>0.159791</td>\n",
              "      <td>0.151738</td>\n",
              "      <td>0.175362</td>\n",
              "      <td>0.148176</td>\n",
              "      <td>0.170037</td>\n",
              "      <td>0.143919</td>\n",
              "      <td>0.295361</td>\n",
              "      <td>0.118398</td>\n",
              "      <td>0.114727</td>\n",
              "      <td>0.114981</td>\n",
              "      <td>0.090183</td>\n",
              "      <td>0.086733</td>\n",
              "      <td>3.672561</td>\n",
              "      <td>0.612787</td>\n",
              "      <td>1.21751</td>\n",
              "      <td>0.677462</td>\n",
              "      <td>1.405511</td>\n",
              "    </tr>\n",
              "    <tr>\n",
              "      <th>min</th>\n",
              "      <td>13.000000</td>\n",
              "      <td>0.000000</td>\n",
              "      <td>0.000000</td>\n",
              "      <td>16.00000</td>\n",
              "      <td>1.000000</td>\n",
              "      <td>0.000000</td>\n",
              "      <td>0.000000</td>\n",
              "      <td>0.000000</td>\n",
              "      <td>0.000000</td>\n",
              "      <td>0.000000</td>\n",
              "      <td>0.000000</td>\n",
              "      <td>0.000000</td>\n",
              "      <td>0.000000</td>\n",
              "      <td>0.000000</td>\n",
              "      <td>0.000000</td>\n",
              "      <td>0.000000</td>\n",
              "      <td>0.000000</td>\n",
              "      <td>0.000000</td>\n",
              "      <td>0.000000</td>\n",
              "      <td>0.000000</td>\n",
              "      <td>0.000000</td>\n",
              "      <td>0.000000</td>\n",
              "      <td>0.000000</td>\n",
              "      <td>0.000000</td>\n",
              "      <td>0.000000</td>\n",
              "      <td>0.000000</td>\n",
              "      <td>0.000000</td>\n",
              "      <td>0.000000</td>\n",
              "      <td>0.000000</td>\n",
              "      <td>0.0</td>\n",
              "      <td>0.0000</td>\n",
              "      <td>0.000000</td>\n",
              "      <td>0.000000</td>\n",
              "      <td>0.000000</td>\n",
              "      <td>0.000000</td>\n",
              "      <td>0.000000</td>\n",
              "      <td>0.000000</td>\n",
              "      <td>0.000000</td>\n",
              "      <td>0.000000</td>\n",
              "      <td>0.000000</td>\n",
              "      <td>0.000000</td>\n",
              "      <td>0.000000</td>\n",
              "      <td>0.000000</td>\n",
              "      <td>0.000000</td>\n",
              "      <td>0.000000</td>\n",
              "      <td>0.000000</td>\n",
              "      <td>0.000000</td>\n",
              "      <td>0.00000</td>\n",
              "      <td>0.000000</td>\n",
              "      <td>0.000000</td>\n",
              "    </tr>\n",
              "    <tr>\n",
              "      <th>25%</th>\n",
              "      <td>93526.750000</td>\n",
              "      <td>1.000000</td>\n",
              "      <td>5.000000</td>\n",
              "      <td>24.00000</td>\n",
              "      <td>10.000000</td>\n",
              "      <td>0.000000</td>\n",
              "      <td>0.000000</td>\n",
              "      <td>0.000000</td>\n",
              "      <td>0.000000</td>\n",
              "      <td>0.000000</td>\n",
              "      <td>0.000000</td>\n",
              "      <td>0.000000</td>\n",
              "      <td>0.000000</td>\n",
              "      <td>0.000000</td>\n",
              "      <td>0.000000</td>\n",
              "      <td>0.000000</td>\n",
              "      <td>0.000000</td>\n",
              "      <td>0.000000</td>\n",
              "      <td>0.000000</td>\n",
              "      <td>0.000000</td>\n",
              "      <td>0.000000</td>\n",
              "      <td>0.000000</td>\n",
              "      <td>0.000000</td>\n",
              "      <td>0.000000</td>\n",
              "      <td>0.000000</td>\n",
              "      <td>0.000000</td>\n",
              "      <td>0.000000</td>\n",
              "      <td>0.000000</td>\n",
              "      <td>0.000000</td>\n",
              "      <td>0.0</td>\n",
              "      <td>0.0000</td>\n",
              "      <td>0.000000</td>\n",
              "      <td>0.000000</td>\n",
              "      <td>0.000000</td>\n",
              "      <td>0.000000</td>\n",
              "      <td>0.000000</td>\n",
              "      <td>0.000000</td>\n",
              "      <td>0.000000</td>\n",
              "      <td>0.000000</td>\n",
              "      <td>0.000000</td>\n",
              "      <td>0.000000</td>\n",
              "      <td>0.000000</td>\n",
              "      <td>0.000000</td>\n",
              "      <td>0.000000</td>\n",
              "      <td>0.000000</td>\n",
              "      <td>3.000000</td>\n",
              "      <td>0.000000</td>\n",
              "      <td>0.00000</td>\n",
              "      <td>0.000000</td>\n",
              "      <td>0.000000</td>\n",
              "    </tr>\n",
              "    <tr>\n",
              "      <th>50%</th>\n",
              "      <td>187193.500000</td>\n",
              "      <td>3.000000</td>\n",
              "      <td>14.000000</td>\n",
              "      <td>29.00000</td>\n",
              "      <td>18.000000</td>\n",
              "      <td>0.000000</td>\n",
              "      <td>0.000000</td>\n",
              "      <td>0.000000</td>\n",
              "      <td>0.000000</td>\n",
              "      <td>1.000000</td>\n",
              "      <td>0.000000</td>\n",
              "      <td>1.000000</td>\n",
              "      <td>0.000000</td>\n",
              "      <td>0.000000</td>\n",
              "      <td>0.000000</td>\n",
              "      <td>0.000000</td>\n",
              "      <td>0.000000</td>\n",
              "      <td>0.000000</td>\n",
              "      <td>0.000000</td>\n",
              "      <td>0.000000</td>\n",
              "      <td>0.000000</td>\n",
              "      <td>0.000000</td>\n",
              "      <td>0.000000</td>\n",
              "      <td>0.000000</td>\n",
              "      <td>0.000000</td>\n",
              "      <td>0.000000</td>\n",
              "      <td>0.000000</td>\n",
              "      <td>0.000000</td>\n",
              "      <td>0.000000</td>\n",
              "      <td>0.0</td>\n",
              "      <td>0.0000</td>\n",
              "      <td>0.000000</td>\n",
              "      <td>0.000000</td>\n",
              "      <td>0.000000</td>\n",
              "      <td>0.000000</td>\n",
              "      <td>0.000000</td>\n",
              "      <td>0.000000</td>\n",
              "      <td>0.000000</td>\n",
              "      <td>0.000000</td>\n",
              "      <td>0.000000</td>\n",
              "      <td>0.000000</td>\n",
              "      <td>0.000000</td>\n",
              "      <td>0.000000</td>\n",
              "      <td>0.000000</td>\n",
              "      <td>0.000000</td>\n",
              "      <td>6.000000</td>\n",
              "      <td>0.000000</td>\n",
              "      <td>0.00000</td>\n",
              "      <td>1.000000</td>\n",
              "      <td>0.000000</td>\n",
              "    </tr>\n",
              "    <tr>\n",
              "      <th>75%</th>\n",
              "      <td>279984.250000</td>\n",
              "      <td>5.000000</td>\n",
              "      <td>19.000000</td>\n",
              "      <td>37.00000</td>\n",
              "      <td>28.000000</td>\n",
              "      <td>0.000000</td>\n",
              "      <td>0.000000</td>\n",
              "      <td>1.000000</td>\n",
              "      <td>0.000000</td>\n",
              "      <td>1.000000</td>\n",
              "      <td>1.000000</td>\n",
              "      <td>1.000000</td>\n",
              "      <td>1.000000</td>\n",
              "      <td>1.000000</td>\n",
              "      <td>0.000000</td>\n",
              "      <td>1.000000</td>\n",
              "      <td>1.000000</td>\n",
              "      <td>1.000000</td>\n",
              "      <td>0.000000</td>\n",
              "      <td>0.000000</td>\n",
              "      <td>0.000000</td>\n",
              "      <td>0.000000</td>\n",
              "      <td>0.000000</td>\n",
              "      <td>0.000000</td>\n",
              "      <td>0.000000</td>\n",
              "      <td>0.000000</td>\n",
              "      <td>0.000000</td>\n",
              "      <td>0.000000</td>\n",
              "      <td>0.000000</td>\n",
              "      <td>0.0</td>\n",
              "      <td>0.0000</td>\n",
              "      <td>0.000000</td>\n",
              "      <td>0.000000</td>\n",
              "      <td>0.000000</td>\n",
              "      <td>0.000000</td>\n",
              "      <td>0.000000</td>\n",
              "      <td>0.000000</td>\n",
              "      <td>0.000000</td>\n",
              "      <td>0.000000</td>\n",
              "      <td>0.000000</td>\n",
              "      <td>0.000000</td>\n",
              "      <td>0.000000</td>\n",
              "      <td>0.000000</td>\n",
              "      <td>0.000000</td>\n",
              "      <td>0.000000</td>\n",
              "      <td>8.000000</td>\n",
              "      <td>0.000000</td>\n",
              "      <td>1.00000</td>\n",
              "      <td>1.000000</td>\n",
              "      <td>0.000000</td>\n",
              "    </tr>\n",
              "    <tr>\n",
              "      <th>max</th>\n",
              "      <td>373662.000000</td>\n",
              "      <td>6.000000</td>\n",
              "      <td>23.000000</td>\n",
              "      <td>101.00000</td>\n",
              "      <td>325.000000</td>\n",
              "      <td>1.000000</td>\n",
              "      <td>1.000000</td>\n",
              "      <td>1.000000</td>\n",
              "      <td>1.000000</td>\n",
              "      <td>1.000000</td>\n",
              "      <td>1.000000</td>\n",
              "      <td>1.000000</td>\n",
              "      <td>1.000000</td>\n",
              "      <td>1.000000</td>\n",
              "      <td>1.000000</td>\n",
              "      <td>1.000000</td>\n",
              "      <td>1.000000</td>\n",
              "      <td>1.000000</td>\n",
              "      <td>1.000000</td>\n",
              "      <td>1.000000</td>\n",
              "      <td>1.000000</td>\n",
              "      <td>1.000000</td>\n",
              "      <td>1.000000</td>\n",
              "      <td>1.000000</td>\n",
              "      <td>1.000000</td>\n",
              "      <td>1.000000</td>\n",
              "      <td>1.000000</td>\n",
              "      <td>1.000000</td>\n",
              "      <td>1.000000</td>\n",
              "      <td>0.0</td>\n",
              "      <td>1.0000</td>\n",
              "      <td>1.000000</td>\n",
              "      <td>1.000000</td>\n",
              "      <td>1.000000</td>\n",
              "      <td>1.000000</td>\n",
              "      <td>1.000000</td>\n",
              "      <td>1.000000</td>\n",
              "      <td>1.000000</td>\n",
              "      <td>1.000000</td>\n",
              "      <td>1.000000</td>\n",
              "      <td>1.000000</td>\n",
              "      <td>1.000000</td>\n",
              "      <td>1.000000</td>\n",
              "      <td>1.000000</td>\n",
              "      <td>1.000000</td>\n",
              "      <td>35.000000</td>\n",
              "      <td>3.000000</td>\n",
              "      <td>5.00000</td>\n",
              "      <td>3.000000</td>\n",
              "      <td>10.000000</td>\n",
              "    </tr>\n",
              "  </tbody>\n",
              "</table>\n",
              "</div>\n",
              "      <button class=\"colab-df-convert\" onclick=\"convertToInteractive('df-2b2d730f-b29b-4036-ab96-b98745f11c95')\"\n",
              "              title=\"Convert this dataframe to an interactive table.\"\n",
              "              style=\"display:none;\">\n",
              "        \n",
              "  <svg xmlns=\"http://www.w3.org/2000/svg\" height=\"24px\"viewBox=\"0 0 24 24\"\n",
              "       width=\"24px\">\n",
              "    <path d=\"M0 0h24v24H0V0z\" fill=\"none\"/>\n",
              "    <path d=\"M18.56 5.44l.94 2.06.94-2.06 2.06-.94-2.06-.94-.94-2.06-.94 2.06-2.06.94zm-11 1L8.5 8.5l.94-2.06 2.06-.94-2.06-.94L8.5 2.5l-.94 2.06-2.06.94zm10 10l.94 2.06.94-2.06 2.06-.94-2.06-.94-.94-2.06-.94 2.06-2.06.94z\"/><path d=\"M17.41 7.96l-1.37-1.37c-.4-.4-.92-.59-1.43-.59-.52 0-1.04.2-1.43.59L10.3 9.45l-7.72 7.72c-.78.78-.78 2.05 0 2.83L4 21.41c.39.39.9.59 1.41.59.51 0 1.02-.2 1.41-.59l7.78-7.78 2.81-2.81c.8-.78.8-2.07 0-2.86zM5.41 20L4 18.59l7.72-7.72 1.47 1.35L5.41 20z\"/>\n",
              "  </svg>\n",
              "      </button>\n",
              "      \n",
              "  <style>\n",
              "    .colab-df-container {\n",
              "      display:flex;\n",
              "      flex-wrap:wrap;\n",
              "      gap: 12px;\n",
              "    }\n",
              "\n",
              "    .colab-df-convert {\n",
              "      background-color: #E8F0FE;\n",
              "      border: none;\n",
              "      border-radius: 50%;\n",
              "      cursor: pointer;\n",
              "      display: none;\n",
              "      fill: #1967D2;\n",
              "      height: 32px;\n",
              "      padding: 0 0 0 0;\n",
              "      width: 32px;\n",
              "    }\n",
              "\n",
              "    .colab-df-convert:hover {\n",
              "      background-color: #E2EBFA;\n",
              "      box-shadow: 0px 1px 2px rgba(60, 64, 67, 0.3), 0px 1px 3px 1px rgba(60, 64, 67, 0.15);\n",
              "      fill: #174EA6;\n",
              "    }\n",
              "\n",
              "    [theme=dark] .colab-df-convert {\n",
              "      background-color: #3B4455;\n",
              "      fill: #D2E3FC;\n",
              "    }\n",
              "\n",
              "    [theme=dark] .colab-df-convert:hover {\n",
              "      background-color: #434B5C;\n",
              "      box-shadow: 0px 1px 3px 1px rgba(0, 0, 0, 0.15);\n",
              "      filter: drop-shadow(0px 1px 2px rgba(0, 0, 0, 0.3));\n",
              "      fill: #FFFFFF;\n",
              "    }\n",
              "  </style>\n",
              "\n",
              "      <script>\n",
              "        const buttonEl =\n",
              "          document.querySelector('#df-2b2d730f-b29b-4036-ab96-b98745f11c95 button.colab-df-convert');\n",
              "        buttonEl.style.display =\n",
              "          google.colab.kernel.accessAllowed ? 'block' : 'none';\n",
              "\n",
              "        async function convertToInteractive(key) {\n",
              "          const element = document.querySelector('#df-2b2d730f-b29b-4036-ab96-b98745f11c95');\n",
              "          const dataTable =\n",
              "            await google.colab.kernel.invokeFunction('convertToInteractive',\n",
              "                                                     [key], {});\n",
              "          if (!dataTable) return;\n",
              "\n",
              "          const docLinkHtml = 'Like what you see? Visit the ' +\n",
              "            '<a target=\"_blank\" href=https://colab.research.google.com/notebooks/data_table.ipynb>data table notebook</a>'\n",
              "            + ' to learn more about interactive tables.';\n",
              "          element.innerHTML = '';\n",
              "          dataTable['output_type'] = 'display_data';\n",
              "          await google.colab.output.renderOutput(dataTable, element);\n",
              "          const docLink = document.createElement('div');\n",
              "          docLink.innerHTML = docLinkHtml;\n",
              "          element.appendChild(docLink);\n",
              "        }\n",
              "      </script>\n",
              "    </div>\n",
              "  </div>\n",
              "  "
            ],
            "text/plain": [
              "                user     dayofweek  ...    loan_count  savings_count\n",
              "count   50000.000000  50000.000000  ...  50000.000000   50000.000000\n",
              "mean   186889.729900      3.029860  ...      0.788400       0.365020\n",
              "std    107768.520361      2.031997  ...      0.677462       1.405511\n",
              "min        13.000000      0.000000  ...      0.000000       0.000000\n",
              "25%     93526.750000      1.000000  ...      0.000000       0.000000\n",
              "50%    187193.500000      3.000000  ...      1.000000       0.000000\n",
              "75%    279984.250000      5.000000  ...      1.000000       0.000000\n",
              "max    373662.000000      6.000000  ...      3.000000      10.000000\n",
              "\n",
              "[8 rows x 50 columns]"
            ]
          },
          "execution_count": 34,
          "metadata": {},
          "output_type": "execute_result"
        }
      ],
      "source": [
        "df.describe()"
      ]
    },
    {
      "cell_type": "markdown",
      "metadata": {
        "id": "ZFxuL7ytjRMe"
      },
      "source": [
        "Finally we can save the preprocessed dataset to a separate file:"
      ]
    },
    {
      "cell_type": "code",
      "execution_count": null,
      "metadata": {
        "id": "8q3L4JXShMda"
      },
      "outputs": [],
      "source": [
        "df.to_csv(os.path.join(data_path,'new_app_data.csv'),index=False,header=True)"
      ]
    },
    {
      "cell_type": "markdown",
      "metadata": {
        "id": "18-jieN1j09n"
      },
      "source": [
        "---\n",
        "\n",
        "## Data Preprocessing"
      ]
    },
    {
      "cell_type": "code",
      "execution_count": null,
      "metadata": {
        "id": "ol0fiWIpbVfk"
      },
      "outputs": [],
      "source": [
        "import time"
      ]
    },
    {
      "cell_type": "code",
      "execution_count": 2,
      "metadata": {
        "id": "2dOK6IsOj4Zi"
      },
      "outputs": [],
      "source": [
        "new_url = \"https://raw.githubusercontent.com/jehasbani/directing-customers-to-subscription-through-app-behavior-analysis/main/data/new_app_data.csv\"\n",
        "df = pd.read_csv(new_url)"
      ]
    },
    {
      "cell_type": "markdown",
      "metadata": {
        "id": "pMCTlW0ybWKM"
      },
      "source": [
        "Separate response variable from independent features:"
      ]
    },
    {
      "cell_type": "code",
      "execution_count": 3,
      "metadata": {
        "id": "7E_SY6EebeJs"
      },
      "outputs": [],
      "source": [
        "y = df.enrolled\n",
        "X = df.drop(columns=['enrolled'])"
      ]
    },
    {
      "cell_type": "markdown",
      "metadata": {
        "id": "DCZB0Hnpsy59"
      },
      "source": [
        "Let's check the class distribution to detect class imbalance:"
      ]
    },
    {
      "cell_type": "code",
      "execution_count": 4,
      "metadata": {
        "colab": {
          "base_uri": "https://localhost:8080/",
          "height": 265
        },
        "id": "T2sryWios8Cc",
        "outputId": "0dee16d2-67a5-44f6-8a88-262986b5a925"
      },
      "outputs": [
        {
          "output_type": "display_data",
          "data": {
            "image/png": "[encoded data removed]",
            "text/plain": [
              "<Figure size 432x288 with 1 Axes>"
            ]
          },
          "metadata": {
            "needs_background": "light"
          }
        }
      ],
      "source": [
        "y.plot.hist()\n",
        "plt.xticks([0,1])\n",
        "plt.show()"
      ]
    },
    {
      "cell_type": "markdown",
      "metadata": {
        "id": "Oah_1t_bbaX9"
      },
      "source": [
        "Our dataset does not show class imbalance. So, we can split the data into training and testing datasets"
      ]
    },
    {
      "cell_type": "code",
      "execution_count": 5,
      "metadata": {
        "id": "u_B0ryumapHr"
      },
      "outputs": [],
      "source": [
        "from sklearn.model_selection import train_test_split"
      ]
    },
    {
      "cell_type": "code",
      "execution_count": 6,
      "metadata": {
        "id": "ExmhCGS9bjCY"
      },
      "outputs": [],
      "source": [
        "X_train, X_test, y_train, y_test = train_test_split(X,y,test_size=0.2, random_state=0)"
      ]
    },
    {
      "cell_type": "markdown",
      "metadata": {
        "id": "ILP0xuDOuj-W"
      },
      "source": [
        "Let's save the users id to have some way to identify the users later"
      ]
    },
    {
      "cell_type": "code",
      "execution_count": 7,
      "metadata": {
        "id": "y3oksA9QcUgS"
      },
      "outputs": [],
      "source": [
        "train_ids = X_train.user\n",
        "test_ids = X_test.user\n",
        "\n",
        "X_train.drop(columns=['user'], inplace=True)\n",
        "X_test.drop(columns=['user'], inplace=True)"
      ]
    },
    {
      "cell_type": "markdown",
      "metadata": {
        "id": "0Agl9-aDvT_-"
      },
      "source": [
        "Now, we can standardize the features:"
      ]
    },
    {
      "cell_type": "code",
      "execution_count": 8,
      "metadata": {
        "id": "oDhEWvL3vCfr"
      },
      "outputs": [],
      "source": [
        "from sklearn.preprocessing import StandardScaler"
      ]
    },
    {
      "cell_type": "code",
      "execution_count": 9,
      "metadata": {
        "id": "F4oq6oCtvfoe"
      },
      "outputs": [],
      "source": [
        "scaler = StandardScaler()\n",
        "X_train_scaled = pd.DataFrame(scaler.fit_transform(X_train),columns=X_train.columns, index=X_train.index)\n",
        "X_test_scaled = pd.DataFrame(scaler.transform(X_test),columns=X_test.columns, index=X_test.index)"
      ]
    },
    {
      "cell_type": "markdown",
      "metadata": {
        "id": "SU0GX6E6mieP"
      },
      "source": [
        "## Metrics\n",
        "\n",
        "A model performs as well as the metrics we choose to evaluate it with. If we select the wrong metrics we could end up with a false perception of high performance. In this particular example, since we don't have class imbalance, we can choose the classic metrics to perform model evaluation.\n",
        "\n",
        "These are a few metrics computed by the model that will be helpful when evaluating the performance.\n",
        "\n",
        "\n",
        "*   **False** negatives and **false** positives are samples that were **incorrectly** classified\n",
        "*   **True** negatives and **true** positives are samples that were **correctly** classified\n",
        "*   **Accuracy** is the percentage of examples correctly classified\n",
        ">   $\\frac{\\text{true samples}}{\\text{total samples}}$\n",
        "\n",
        ">   Note: Accuracy is not a helpful metric for this task. You can have a 99.8% accuracy on this task by predicting 8 all the time.  \n",
        "\n",
        "*   **Precision** is the percentage of **predicted** positives that were correctly classified. Summarizes the fraction of examples assigned to the positive class that belong to the positive class.\n",
        ">   $\\frac{\\text{true positives}}{\\text{true positives + false positives}}$\n",
        "\n",
        "*   **Recall** is the percentage of **actual** positives that were correctly classified. Also known as **Sensitivity**, summarizes how well the positive class was predicted.\n",
        ">   $\\frac{\\text{true positives}}{\\text{true positives + false negatives}}$\n",
        "\n",
        "*   **Specificity** is the percentage of **actual** negatives that were correctly classified. Summarises how well the negative class was predicted.\n",
        ">   $\\frac{\\text{true negatives}}{\\text{true negatives + false positives}}$\n",
        "\n",
        "> Note: For imbalanced classification, the sensitivity might be more interesting than the specificity.\n",
        "\n",
        "\n",
        "*   **F-Score**: combines **Precision** and **Recall** into a single metric\n",
        ">   $\\frac{2 * precision * recall}{precision + recall}$\n",
        "\n",
        ">   The F-Score is a popular metric for imbalanced classification.\n",
        "\n",
        "*   **F$_{\\beta}$-Score** is an abstraction of the **F-Score** where the balance of precision and recall in the calculation of the harmonic mean is controlled by a coefficient called beta.\n",
        ">   $\\frac{(1+\\beta^2) * precision * recall}{\\beta^2*precision + recall}$\n",
        "\n",
        "> The way to decide which F-Score to use is:\n",
        "   * If FP and FP cost the same: F-Score\n",
        "   * If FP are more costly: F$_{0.5}$-Score\n",
        "   * If FN are more costly: F$_{2}$-Score\n",
        "   \n",
        "> Since in this case False Negatives impact on the business harder than False Positives, we choose F$_{2}$-Score\n",
        "\n",
        "*   **ROC AUC** refers to the Area Under the Curve of a Receiver Operating Characteristic curve (ROC-AUC). This metric is equal to the probability that a classifier will rank a random positive sample higher than a random negative sample. Although generally effective, the ROC Curve and ROC AUC can be optimistic under a severe class imbalance.\n",
        "*   **AUPRC** refers to Area Under the Curve of the Precision-Recall Curve. This metric computes precision-recall pairs for different probability thresholds. In this case, the focus on the minority class makes the Precision-Recall AUC more useful for imbalanced classification problems.\n",
        "\n",
        "Thanks to this introduction we can then select the following metrics to evaluate our model for this problem:\n",
        "\n",
        "* Accuracy\n",
        "* Precision\n",
        "* Recall\n",
        "* F1-Score\n",
        "* ROC Curve and AUC score\n",
        "* PR Curve and AUC Score"
      ]
    },
    {
      "cell_type": "markdown",
      "metadata": {
        "id": "pNrmJmZqM87V"
      },
      "source": [
        "Let's define some helper functions to evaluate the models:"
      ]
    },
    {
      "cell_type": "code",
      "execution_count": 10,
      "metadata": {
        "id": "3PH9iQOo7dY_"
      },
      "outputs": [],
      "source": [
        "from sklearn.metrics import confusion_matrix, roc_curve, roc_auc_score, precision_recall_curve, auc"
      ]
    },
    {
      "cell_type": "code",
      "execution_count": 35,
      "metadata": {
        "id": "MVWBGfADwbWI"
      },
      "outputs": [],
      "source": [
        "# Confusion matrix plot helper function\n",
        "def plot_cm(labels, predictions, p=0.5):\n",
        "  cm = confusion_matrix(labels, predictions > p)\n",
        "  plt.figure(figsize=(5,5))\n",
        "  sns.heatmap(cm, annot=True, fmt=\"d\")\n",
        "  plt.title('Confusion matrix @{:.2f}'.format(p))\n",
        "  plt.ylabel('Actual label')\n",
        "  plt.xlabel('Predicted label')\n",
        "\n",
        "  TN = cm[0][0]\n",
        "  FP = cm[0][1]\n",
        "  FN = cm[1][0]\n",
        "  TP = cm[1][1]\n",
        "\n",
        "  accuracy = (TP+TN)/(TP+TN+FP+FN)\n",
        "  precision = TP / (TP+FP)\n",
        "  recall = TP / (TP+FN)\n",
        "  specificity = TN / (TN+FP)\n",
        "  f1_score = (2*precision*recall)/(precision + recall)\n",
        "  roc_auc = roc_auc_score(labels, predictions)\n",
        "\n",
        "  precision_arr, recall_arr, _ = precision_recall_curve(labels, predictions)\n",
        "  auprc = auc(recall_arr,precision_arr)\n",
        "\n",
        "  print(f\"Metrics at {p} classification threshold\")\n",
        "  print('Legitimate Transactions Detected (True Negatives): ', TN )\n",
        "  print('Legitimate Transactions Incorrectly Detected (False Positives): ', FP )\n",
        "  print('Fraudulent Transactions Missed (False Negatives): ', FN)\n",
        "  print('Fraudulent Transactions Detected (True Positives): ', TP)\n",
        "  print('Accuracy: ', accuracy)\n",
        "  print('Precision: ', precision)\n",
        "  print('Recall (Sensitivity): ',recall)\n",
        "  print('Specificity: ',specificity)\n",
        "  print('F1-Score: ',f1_score)\n",
        "  print(\"PRC AUC Score: \",auprc)\n",
        "  print('ROC AUC Score: ',roc_auc)\n",
        "  print('Total Fraudulent Transactions: ', np.sum(cm[1]))"
      ]
    },
    {
      "cell_type": "code",
      "execution_count": 12,
      "metadata": {
        "id": "lhaxsLSvANF9"
      },
      "outputs": [],
      "source": [
        "# ROC curve plot helper function\n",
        "def plot_roc(name, labels, predictions, **kwargs):\n",
        "  fpr, tpr, _ = roc_curve(labels, predictions)\n",
        "\n",
        "  custom_label = f\"{name} - AUC = {roc_auc_score(labels,predictions):.3f}\"\n",
        "  plt.plot(100*fpr, 100*tpr, label=custom_label, linewidth=2, **kwargs)\n",
        "  plt.xlabel('False positives [%]')\n",
        "  plt.ylabel('True positives [%]')\n",
        "  plt.xlim([-0.5,100.5])\n",
        "  plt.ylim([-0.5,100.5])\n",
        "  plt.grid(True)\n",
        "  ax = plt.gca()\n",
        "  ax.set_aspect('equal')\n",
        "\n",
        "# Best Threshold finder helper function\n",
        "def roc_best_threshold(labels, predictions):\n",
        "  fpr, tpr, thresholds = roc_curve(labels, predictions)\n",
        "  J = tpr - fpr\n",
        "  ix = np.argmax(J)\n",
        "  best_thresh = thresholds[ix]\n",
        "  return best_thresh"
      ]
    },
    {
      "cell_type": "code",
      "execution_count": 13,
      "metadata": {
        "id": "p8KYDATBNjoi"
      },
      "outputs": [],
      "source": [
        "# PRC curve plot helper function\n",
        "def plot_prc(name, labels, predictions, **kwargs):\n",
        "    precision, recall, _ = precision_recall_curve(labels, predictions)\n",
        "\n",
        "    #plt.figure(figsize=(12, 10))\n",
        "    custom_label = f\"{name} - AUC = {auc(recall,precision):.3f}\"\n",
        "    plt.plot(precision, recall, label=custom_label, linewidth=2, **kwargs)\n",
        "    plt.xlabel('Recall')\n",
        "    plt.ylabel('Precision')\n",
        "    plt.grid(True)\n",
        "    ax = plt.gca()\n",
        "    ax.set_aspect('equal')\n",
        "\n",
        "def prc_best_threshold(labels, predictions):\n",
        "  precision, recall, thresholds = precision_recall_curve(labels, predictions)\n",
        "  # convert to f score\n",
        "  fscore = (2 * precision * recall) / (precision + recall)\n",
        "  # locate the index of the largest f score\n",
        "  ix = np.argmax(fscore)\n",
        "  best_thresh = thresholds[ix]\n",
        "  return best_thresh"
      ]
    },
    {
      "cell_type": "markdown",
      "metadata": {
        "id": "EIvMO_jEwstN"
      },
      "source": [
        "---\n",
        "\n",
        "## Model\n",
        "\n",
        "As a baseline model we'll use a Logistic Reggression classifier."
      ]
    },
    {
      "cell_type": "markdown",
      "metadata": {
        "id": "0iNR5Zqy93XA"
      },
      "source": [
        "### Logistic Regression"
      ]
    },
    {
      "cell_type": "code",
      "execution_count": null,
      "metadata": {
        "id": "PqtI_jK1wQnF"
      },
      "outputs": [],
      "source": [
        "from sklearn.linear_model import LogisticRegression"
      ]
    },
    {
      "cell_type": "markdown",
      "metadata": {
        "id": "iu_OGi8Uxixs"
      },
      "source": [
        "Since we are working with mobile app data, there could be correlation between the screens. We addressed these correlations using funnels, but there could be other correlations we didn't take into account. Chances are there actually exist other correlations between the screens. For example, if there is a screen that always leads to the enrollment screen there will be a strong correlation between them, even though it's only a part of the workflow of the app and it doesn't carry any actual predictive weight. In that case, the logistict regression model will assing a large weight to this feature and the $l_1$ regularization penalizes these sort of cases. "
      ]
    },
    {
      "cell_type": "code",
      "execution_count": null,
      "metadata": {
        "id": "N5_IS9SBw3IW"
      },
      "outputs": [],
      "source": [
        "clf = LogisticRegression(random_state=0, penalty = \"l1\", solver=\"saga\")"
      ]
    },
    {
      "cell_type": "markdown",
      "metadata": {
        "id": "KU2bhdY-UJx7"
      },
      "source": [
        "*Note: we use 'saga' solver because it's compatible with the $l1$ regularization.*"
      ]
    },
    {
      "cell_type": "code",
      "execution_count": null,
      "metadata": {
        "colab": {
          "base_uri": "https://localhost:8080/"
        },
        "id": "u9snFtiUTrZO",
        "outputId": "51e52910-e648-4484-92d6-b5da843fc44a"
      },
      "outputs": [
        {
          "data": {
            "text/plain": [
              "LogisticRegression(penalty='l1', random_state=0, solver='saga')"
            ]
          },
          "execution_count": 130,
          "metadata": {},
          "output_type": "execute_result"
        }
      ],
      "source": [
        "clf.fit(X_train_scaled,y_train)"
      ]
    },
    {
      "cell_type": "markdown",
      "metadata": {
        "id": "7JqwXNPSUhrK"
      },
      "source": [
        "Let's predict on the test set"
      ]
    },
    {
      "cell_type": "code",
      "execution_count": null,
      "metadata": {
        "id": "8ElofS5JTwTA"
      },
      "outputs": [],
      "source": [
        "y_pred = clf.predict(X_test_scaled)"
      ]
    },
    {
      "cell_type": "markdown",
      "metadata": {
        "id": "PewY-PrQ-N39"
      },
      "source": [
        "#### Plot ROC Curve"
      ]
    },
    {
      "cell_type": "code",
      "execution_count": null,
      "metadata": {
        "colab": {
          "base_uri": "https://localhost:8080/",
          "height": 637
        },
        "id": "-NJBnMQf8iaH",
        "outputId": "35825af4-4c8d-4ea9-afc5-0670a8cc47a6"
      },
      "outputs": [
        {
          "data": {
            "image/png": "[encoded data removed]",
            "text/plain": [
              "<Figure size 864x720 with 1 Axes>"
            ]
          },
          "metadata": {},
          "output_type": "display_data"
        }
      ],
      "source": [
        "plt.figure(figsize=(12,10))\n",
        "plot_roc(\"Train Baseline\", y_train, clf.predict(X_train_scaled), color=colors[0])\n",
        "plot_roc(\"Test Baseline\", y_test, y_pred, color=colors[1], linestyle='--')\n",
        "plt.legend(loc='lower right',prop={'size': 11});"
      ]
    },
    {
      "cell_type": "code",
      "execution_count": null,
      "metadata": {
        "colab": {
          "base_uri": "https://localhost:8080/"
        },
        "id": "tIrSmt6E87zv",
        "outputId": "7242e4c3-6e43-4784-db82-ea3b31c5c30d"
      },
      "outputs": [
        {
          "name": "stdout",
          "output_type": "stream",
          "text": [
            "The best threshold for the ROC curve is:  1\n"
          ]
        }
      ],
      "source": [
        "roc_thr_baseline = roc_best_threshold(y_test, y_pred)\n",
        "print(\"The best threshold for the ROC curve is: \",roc_thr_baseline)"
      ]
    },
    {
      "cell_type": "markdown",
      "metadata": {
        "id": "XSvvouO_-QoN"
      },
      "source": [
        "#### Evaluate Metrics"
      ]
    },
    {
      "cell_type": "code",
      "execution_count": null,
      "metadata": {
        "colab": {
          "base_uri": "https://localhost:8080/",
          "height": 611
        },
        "id": "-D4fsi1o8_Ku",
        "outputId": "a9af429d-255a-4b63-de37-571601942c51"
      },
      "outputs": [
        {
          "name": "stdout",
          "output_type": "stream",
          "text": [
            "Metrics at 0.999 classification threshold\n",
            "Legitimate Transactions Detected (True Negatives):  3886\n",
            "Legitimate Transactions Incorrectly Detected (False Positives):  1186\n",
            "Fraudulent Transactions Missed (False Negatives):  1133\n",
            "Fraudulent Transactions Detected (True Positives):  3795\n",
            "Accuracy:  0.7681\n",
            "Precision:  0.7618952017667135\n",
            "Recall (Sensitivity):  0.7700892857142857\n",
            "Specificity:  0.7661671924290221\n",
            "F1-Score:  0.3829851650015138\n",
            "PRC AUC Score:  0.8226422437404997\n",
            "ROC AUC Score:  0.7681282390716538\n",
            "Total Fraudulent Transactions:  4928\n"
          ]
        },
        {
          "data": {
            "image/png": "[encoded data removed]",
            "text/plain": [
              "<Figure size 360x360 with 2 Axes>"
            ]
          },
          "metadata": {},
          "output_type": "display_data"
        }
      ],
      "source": [
        "plot_cm(y_test, y_pred, p=0.999)"
      ]
    },
    {
      "cell_type": "markdown",
      "metadata": {
        "id": "cMk-PesU-i8K"
      },
      "source": [
        "#### Plot PR Curve"
      ]
    },
    {
      "cell_type": "code",
      "execution_count": null,
      "metadata": {
        "colab": {
          "base_uri": "https://localhost:8080/",
          "height": 632
        },
        "id": "FdQs_PcqEsiL",
        "outputId": "dd27a517-84a2-49fc-b6d1-65e8c29c6096"
      },
      "outputs": [
        {
          "data": {
            "image/png": "[encoded data removed]",
            "text/plain": [
              "<Figure size 864x720 with 1 Axes>"
            ]
          },
          "metadata": {},
          "output_type": "display_data"
        }
      ],
      "source": [
        "plt.figure(figsize=(12,10))\n",
        "plot_prc(\"Train Baseline\", y_train, clf.predict(X_train_scaled), color=colors[0])\n",
        "plot_prc(\"Test Baseline\", y_test, y_pred, color=colors[0], linestyle='-')\n",
        "plt.legend(loc='upper right',prop={'size': 11});"
      ]
    },
    {
      "cell_type": "markdown",
      "metadata": {
        "id": "zSrsirxFbvD4"
      },
      "source": [
        "#### Cross Validation\n",
        "Let's perform cross validation to have a more accurate sense of the model's performance"
      ]
    },
    {
      "cell_type": "code",
      "execution_count": 14,
      "metadata": {
        "id": "NNJ1YHWDWP8D"
      },
      "outputs": [],
      "source": [
        "from sklearn.model_selection import cross_val_score, cross_validate"
      ]
    },
    {
      "cell_type": "code",
      "execution_count": null,
      "metadata": {
        "id": "ktSMNod0_sp6"
      },
      "outputs": [],
      "source": [
        "scoring = ['accuracy','precision', 'recall','roc_auc']\n",
        "scores = cross_validate(clf, X_train_scaled, y_train, scoring=scoring, cv=10)"
      ]
    },
    {
      "cell_type": "code",
      "execution_count": null,
      "metadata": {
        "colab": {
          "base_uri": "https://localhost:8080/"
        },
        "id": "KVaqqWfhAiK2",
        "outputId": "ffa3c452-304c-4780-8511-5432eb4c17c5"
      },
      "outputs": [
        {
          "name": "stdout",
          "output_type": "stream",
          "text": [
            "Logistic regression accuracy: 0.7671 (+/- 0.0093)\n",
            "Logistic regression precision: 0.7649 (+/- 0.0141)\n",
            "Logistic regression recall: 0.7690 (+/- 0.0150)\n",
            "Logistic regression ROC AUC score: 0.8403 (+/- 0.0083)\n"
          ]
        }
      ],
      "source": [
        "print(f\"Logistic regression accuracy: {scores['test_accuracy'].mean():.4f} (+/- {scores['test_accuracy'].std()*2:.4f})\")\n",
        "print(f\"Logistic regression precision: {scores['test_precision'].mean():.4f} (+/- {scores['test_precision'].std()*2:.4f})\")\n",
        "print(f\"Logistic regression recall: {scores['test_recall'].mean():.4f} (+/- {scores['test_recall'].std()*2:.4f})\")\n",
        "print(f\"Logistic regression ROC AUC score: {scores['test_roc_auc'].mean():.4f} (+/- {scores['test_roc_auc'].std()*2:.4f})\")"
      ]
    },
    {
      "cell_type": "markdown",
      "metadata": {
        "id": "IIGuOs5SlEdM"
      },
      "source": [
        "We see that our accuracy score of 76.71% is a good representation of the performance of the model."
      ]
    },
    {
      "cell_type": "markdown",
      "metadata": {
        "id": "KsjDVKL0Bwp4"
      },
      "source": [
        "### Gradient Boosted Trees"
      ]
    },
    {
      "cell_type": "code",
      "execution_count": 17,
      "metadata": {
        "id": "0idJlK9gB0A_"
      },
      "outputs": [],
      "source": [
        "import xgboost as xgb"
      ]
    },
    {
      "cell_type": "code",
      "execution_count": 67,
      "metadata": {
        "id": "ndKDTu5bB5PY"
      },
      "outputs": [],
      "source": [
        "xgb_clf = xgb.XGBClassifier(n_estimators=100,random_state=0)"
      ]
    },
    {
      "cell_type": "code",
      "execution_count": 68,
      "metadata": {
        "colab": {
          "base_uri": "https://localhost:8080/"
        },
        "id": "kfxtJWxEB_Zn",
        "outputId": "b8ad69ff-f6db-4822-da8d-0ab14633ee6e"
      },
      "outputs": [
        {
          "output_type": "execute_result",
          "data": {
            "text/plain": [
              "XGBClassifier()"
            ]
          },
          "metadata": {},
          "execution_count": 68
        }
      ],
      "source": [
        "xgb_clf.fit(X_train_scaled,y_train)"
      ]
    },
    {
      "cell_type": "markdown",
      "metadata": {
        "id": "XkM3U-N0CNBF"
      },
      "source": [
        "Let's predict on the test set"
      ]
    },
    {
      "cell_type": "code",
      "execution_count": 69,
      "metadata": {
        "id": "J0eXwOcRCNBF"
      },
      "outputs": [],
      "source": [
        "y_pred = xgb_clf.predict(X_test_scaled)"
      ]
    },
    {
      "cell_type": "markdown",
      "metadata": {
        "id": "wB0RJnR2CNBG"
      },
      "source": [
        "#### Plot ROC Curve"
      ]
    },
    {
      "cell_type": "code",
      "execution_count": 76,
      "metadata": {
        "colab": {
          "base_uri": "https://localhost:8080/",
          "height": 607
        },
        "id": "bG_kkh2VCNBG",
        "outputId": "3950c0e7-ea5c-4fd1-e528-8bfeddda3392"
      },
      "outputs": [
        {
          "output_type": "display_data",
          "data": {
            "image/png": "[encoded data removed]",
            "text/plain": [
              "<Figure size 864x720 with 1 Axes>"
            ]
          },
          "metadata": {
            "needs_background": "light"
          }
        }
      ],
      "source": [
        "plt.figure(figsize=(12,10))\n",
        "plot_roc(\"Train XGB Default\", y_train, xgb_clf.predict(X_train_scaled), color=colors[0])\n",
        "plot_roc(\"Test XGB Default\", y_test,xgb_clf.predict(X_test_scaled), color=colors[0], linestyle='--')\n",
        "plt.legend(loc='lower right',prop={'size': 11});"
      ]
    },
    {
      "cell_type": "code",
      "execution_count": 71,
      "metadata": {
        "colab": {
          "base_uri": "https://localhost:8080/"
        },
        "id": "OqUcfEU_CNBG",
        "outputId": "6bc29dc2-4fe8-457d-83b9-231d4a54c805"
      },
      "outputs": [
        {
          "output_type": "stream",
          "name": "stdout",
          "text": [
            "The best threshold for the ROC curve is:  1\n"
          ]
        }
      ],
      "source": [
        "roc_thr_baseline = roc_best_threshold(y_test, y_pred)\n",
        "print(\"The best threshold for the ROC curve is: \",roc_thr_baseline)"
      ]
    },
    {
      "cell_type": "markdown",
      "metadata": {
        "id": "MBGU1DGGCNBG"
      },
      "source": [
        "#### Evaluate Metrics"
      ]
    },
    {
      "cell_type": "code",
      "execution_count": 72,
      "metadata": {
        "colab": {
          "base_uri": "https://localhost:8080/",
          "height": 575
        },
        "id": "nVcqCLV6CNBG",
        "outputId": "14897440-becf-469f-f74e-920e05449b0f"
      },
      "outputs": [
        {
          "output_type": "stream",
          "name": "stdout",
          "text": [
            "Metrics at 0.999 classification threshold\n",
            "Legitimate Transactions Detected (True Negatives):  4135\n",
            "Legitimate Transactions Incorrectly Detected (False Positives):  937\n",
            "Fraudulent Transactions Missed (False Negatives):  1315\n",
            "Fraudulent Transactions Detected (True Positives):  3613\n",
            "Accuracy:  0.7748\n",
            "Precision:  0.7940659340659341\n",
            "Recall (Sensitivity):  0.7331574675324676\n",
            "Specificity:  0.8152602523659306\n",
            "F1-Score:  0.762397130196244\n",
            "PRC AUC Score:  0.8293617007992009\n",
            "ROC AUC Score:  0.7742088599491991\n",
            "Total Fraudulent Transactions:  4928\n"
          ]
        },
        {
          "output_type": "display_data",
          "data": {
            "image/png": "[encoded data removed]",
            "text/plain": [
              "<Figure size 360x360 with 2 Axes>"
            ]
          },
          "metadata": {
            "needs_background": "light"
          }
        }
      ],
      "source": [
        "plot_cm(y_test, y_pred, p=0.999)"
      ]
    },
    {
      "cell_type": "markdown",
      "metadata": {
        "id": "r2BelIN6CNBH"
      },
      "source": [
        "#### Plot PR Curve"
      ]
    },
    {
      "cell_type": "code",
      "execution_count": 75,
      "metadata": {
        "colab": {
          "base_uri": "https://localhost:8080/",
          "height": 606
        },
        "id": "SaDK_YfwCNBH",
        "outputId": "06b2b70e-eb2d-4417-88d7-4811646dfcd4"
      },
      "outputs": [
        {
          "output_type": "display_data",
          "data": {
            "image/png": "[encoded data removed]",
            "text/plain": [
              "<Figure size 864x720 with 1 Axes>"
            ]
          },
          "metadata": {
            "needs_background": "light"
          }
        }
      ],
      "source": [
        "plt.figure(figsize=(12,10))\n",
        "plot_prc(\"Train XGB Default\", y_train, xgb_clf.predict(X_train_scaled), color=colors[0])\n",
        "plot_prc(\"Test XGB Default\", y_test, xgb_clf.predict(X_test_scaled), color=colors[0], linestyle='--')\n",
        "plt.legend(loc='upper right',prop={'size': 11});"
      ]
    },
    {
      "cell_type": "markdown",
      "metadata": {
        "id": "W65I9z4KCNBH"
      },
      "source": [
        "#### Cross Validation\n",
        "Let's perform cross validation to have a more accurate sense of the model's performance"
      ]
    },
    {
      "cell_type": "code",
      "execution_count": 52,
      "metadata": {
        "id": "Tp8VC0rnCNBH"
      },
      "outputs": [],
      "source": [
        "scoring = ['accuracy','precision', 'recall','roc_auc']\n",
        "scores = cross_validate(xgb_clf, X_train_scaled, y_train, scoring=scoring, cv=10)"
      ]
    },
    {
      "cell_type": "code",
      "execution_count": 53,
      "metadata": {
        "colab": {
          "base_uri": "https://localhost:8080/"
        },
        "id": "odr8zDdDCNBH",
        "outputId": "f440cc74-8043-4b7a-8462-046b68c7e9d0"
      },
      "outputs": [
        {
          "output_type": "stream",
          "name": "stdout",
          "text": [
            "XGBT accuracy: 0.7777 (+/- 0.0121)\n",
            "XGBT precision: 0.7967 (+/- 0.0148)\n",
            "XGBT recall: 0.7436 (+/- 0.0215)\n",
            "XGBT ROC AUC score: 0.8554 (+/- 0.0091)\n"
          ]
        }
      ],
      "source": [
        "print(f\"XGBT accuracy: {scores['test_accuracy'].mean():.4f} (+/- {scores['test_accuracy'].std()*2:.4f})\")\n",
        "print(f\"XGBT precision: {scores['test_precision'].mean():.4f} (+/- {scores['test_precision'].std()*2:.4f})\")\n",
        "print(f\"XGBT recall: {scores['test_recall'].mean():.4f} (+/- {scores['test_recall'].std()*2:.4f})\")\n",
        "print(f\"XGBT ROC AUC score: {scores['test_roc_auc'].mean():.4f} (+/- {scores['test_roc_auc'].std()*2:.4f})\")"
      ]
    },
    {
      "cell_type": "markdown",
      "metadata": {
        "id": "0zpP45NWEMYv"
      },
      "source": [
        "We can see how there's a slight improvement in the performance with the GBT"
      ]
    },
    {
      "cell_type": "markdown",
      "metadata": {
        "id": "K4NoZwzqBVo6"
      },
      "source": [
        "---\n",
        "\n",
        "## Improving the model\n",
        "To achieve better performance que can finetune the parameters of the LR, which there aren't many, or we can try out a completely different model. In this case, we'll train  XGB Classifier using a randomized grid search because it's a very well performant and common go-to model in the community.\n"
      ]
    },
    {
      "cell_type": "markdown",
      "metadata": {
        "id": "Id-9GZIBE_62"
      },
      "source": [
        "#### GridSearch"
      ]
    },
    {
      "cell_type": "code",
      "execution_count": 15,
      "metadata": {
        "id": "80pflPGIsfwc"
      },
      "outputs": [],
      "source": [
        "from sklearn.model_selection import GridSearchCV,RandomizedSearchCV"
      ]
    },
    {
      "cell_type": "code",
      "execution_count": 54,
      "metadata": {
        "colab": {
          "base_uri": "https://localhost:8080/"
        },
        "id": "EqqVewMeB465",
        "outputId": "aa3d6b67-c3d4-4d65-e7c5-73a4f2e7e960"
      },
      "outputs": [
        {
          "output_type": "stream",
          "name": "stdout",
          "text": [
            "Fitting 10 folds for each of 50 candidates, totalling 500 fits\n",
            "0.8554465707913229\n"
          ]
        }
      ],
      "source": [
        "xgb_clf = xgb.XGBClassifier(n_estimators=100, objective='binary:logistic')\n",
        "params = dict(clf__eta = [0.01, 0.1, 0.5] ,\n",
        "              clf__min_child_weight = [1, 5, 10],\n",
        "              clf__gamma = [0,0.5, 1],\n",
        "              clf__subsample = [0, 0.5, 1],\n",
        "              clf__colsample_bytree = [0.1, 0.5, 1.0],\n",
        "              clf__max_depth = [3, 6, 9])\n",
        "\n",
        "grid = RandomizedSearchCV(xgb_clf, param_distributions=params, cv=10, n_jobs=-1, verbose=1, scoring='roc_auc', n_iter=50)\n",
        "grid.fit(X_train_scaled, y_train)\n",
        "print(grid.best_score_)"
      ]
    },
    {
      "cell_type": "code",
      "source": [
        "grid.best_params_"
      ],
      "metadata": {
        "colab": {
          "base_uri": "https://localhost:8080/"
        },
        "id": "0uziK0-StMkF",
        "outputId": "0be71fb4-3446-46dd-ff91-0a3deda91b73"
      },
      "execution_count": 62,
      "outputs": [
        {
          "output_type": "execute_result",
          "data": {
            "text/plain": [
              "{'clf__colsample_bytree': 0.1,\n",
              " 'clf__eta': 0.5,\n",
              " 'clf__gamma': 0.5,\n",
              " 'clf__max_depth': 6,\n",
              " 'clf__min_child_weight': 1,\n",
              " 'clf__subsample': 0}"
            ]
          },
          "metadata": {},
          "execution_count": 62
        }
      ]
    },
    {
      "cell_type": "code",
      "execution_count": 78,
      "metadata": {
        "id": "Mtw0wQ_703yu"
      },
      "outputs": [],
      "source": [
        "xgb_grid_clf = grid.best_estimator_\n",
        "y_pred = xgb_grid_clf.predict(X_test_scaled)"
      ]
    },
    {
      "cell_type": "markdown",
      "metadata": {
        "id": "9UH-vbgpE8Yo"
      },
      "source": [
        "#### Plot ROC Curve"
      ]
    },
    {
      "cell_type": "code",
      "execution_count": 79,
      "metadata": {
        "id": "aNY13P0cE8Yp",
        "colab": {
          "base_uri": "https://localhost:8080/",
          "height": 607
        },
        "outputId": "6e888638-ed97-42d2-d22a-cce0c72af61e"
      },
      "outputs": [
        {
          "output_type": "display_data",
          "data": {
            "image/png": "[encoded data removed]",
            "text/plain": [
              "<Figure size 864x720 with 1 Axes>"
            ]
          },
          "metadata": {
            "needs_background": "light"
          }
        }
      ],
      "source": [
        "plt.figure(figsize=(12,10))\n",
        "plot_roc(\"Train XGB Default\", y_train, xgb_clf.predict(X_train_scaled), color=colors[0])\n",
        "plot_roc(\"Test XGB Default\", y_test,xgb_clf.predict(X_test_scaled), color=colors[0], linestyle='--')\n",
        "plot_roc(\"Train XGB Grid\", y_train, xgb_grid_clf.predict(X_train_scaled), color=colors[1])\n",
        "plot_roc(\"Test XGB Grid\", y_test, xgb_grid_clf.predict(X_test_scaled), color=colors[1], linestyle='--')\n",
        "plt.legend(loc='lower right',prop={'size': 11});"
      ]
    },
    {
      "cell_type": "code",
      "execution_count": 65,
      "metadata": {
        "id": "J4B2oCWkE8Yq",
        "colab": {
          "base_uri": "https://localhost:8080/"
        },
        "outputId": "0140f176-6480-4a41-c61d-fd19c940e2d2"
      },
      "outputs": [
        {
          "output_type": "stream",
          "name": "stdout",
          "text": [
            "The best threshold for the ROC curve is:  1\n"
          ]
        }
      ],
      "source": [
        "roc_thr_baseline = roc_best_threshold(y_test, y_pred)\n",
        "print(\"The best threshold for the ROC curve is: \",roc_thr_baseline)"
      ]
    },
    {
      "cell_type": "markdown",
      "metadata": {
        "id": "VGLx9lU0E8Yq"
      },
      "source": [
        "#### Evaluate Metrics"
      ]
    },
    {
      "cell_type": "code",
      "execution_count": 66,
      "metadata": {
        "id": "LZKvP4kUE8Yr",
        "colab": {
          "base_uri": "https://localhost:8080/",
          "height": 575
        },
        "outputId": "8a1797b6-b721-40b0-f6c1-ec4d1a866c4c"
      },
      "outputs": [
        {
          "output_type": "stream",
          "name": "stdout",
          "text": [
            "Metrics at 0.999 classification threshold\n",
            "Legitimate Transactions Detected (True Negatives):  4135\n",
            "Legitimate Transactions Incorrectly Detected (False Positives):  937\n",
            "Fraudulent Transactions Missed (False Negatives):  1315\n",
            "Fraudulent Transactions Detected (True Positives):  3613\n",
            "Accuracy:  0.7748\n",
            "Precision:  0.7940659340659341\n",
            "Recall (Sensitivity):  0.7331574675324676\n",
            "Specificity:  0.8152602523659306\n",
            "F1-Score:  0.762397130196244\n",
            "PRC AUC Score:  0.8293617007992009\n",
            "ROC AUC Score:  0.7742088599491991\n",
            "Total Fraudulent Transactions:  4928\n"
          ]
        },
        {
          "output_type": "display_data",
          "data": {
            "image/png": "[encoded data removed]",
            "text/plain": [
              "<Figure size 360x360 with 2 Axes>"
            ]
          },
          "metadata": {
            "needs_background": "light"
          }
        }
      ],
      "source": [
        "plot_cm(y_test, y_pred, p=0.999)"
      ]
    },
    {
      "cell_type": "markdown",
      "metadata": {
        "id": "Kz_frQ_RE8Yr"
      },
      "source": [
        "#### Plot PR Curve"
      ]
    },
    {
      "cell_type": "code",
      "execution_count": 80,
      "metadata": {
        "id": "pB70-BcAE8Yr",
        "colab": {
          "base_uri": "https://localhost:8080/",
          "height": 606
        },
        "outputId": "9623af71-337b-43d1-d198-53284b009171"
      },
      "outputs": [
        {
          "output_type": "display_data",
          "data": {
            "image/png": "[encoded data removed]",
            "text/plain": [
              "<Figure size 864x720 with 1 Axes>"
            ]
          },
          "metadata": {
            "needs_background": "light"
          }
        }
      ],
      "source": [
        "plt.figure(figsize=(12,10))\n",
        "plot_prc(\"Train XGB Default\", y_train, xgb_clf.predict(X_train_scaled), color=colors[0])\n",
        "plot_prc(\"Test XGB Default\", y_test, xgb_clf.predict(X_test_scaled), color=colors[0], linestyle='--')\n",
        "plot_prc(\"Train XGB Grid\", y_train, xgb_grid_clf.predict(X_train_scaled), color=colors[1])\n",
        "plot_prc(\"Test XGB Grid\", y_test, xgb_grid_clf.predict(X_test_scaled), color=colors[1], linestyle='--')\n",
        "plt.legend(loc='upper right',prop={'size': 11});"
      ]
    },
    {
      "cell_type": "markdown",
      "metadata": {
        "id": "3SSKS4U0E8Ys"
      },
      "source": [
        "#### Cross Validation\n",
        "Let's perform cross validation to have a more accurate sense of the model's performance"
      ]
    },
    {
      "cell_type": "code",
      "execution_count": 60,
      "metadata": {
        "id": "yvw8Y6PgE8Ys"
      },
      "outputs": [],
      "source": [
        "scoring = ['accuracy','precision', 'recall','roc_auc']\n",
        "scores = cross_validate(xgb_grid_clf, X_train_scaled, y_train, scoring=scoring, cv=10)"
      ]
    },
    {
      "cell_type": "code",
      "execution_count": 61,
      "metadata": {
        "id": "NaAJJ0UDE8Yt",
        "colab": {
          "base_uri": "https://localhost:8080/"
        },
        "outputId": "8cdbfd71-2188-4caf-82e1-65ba1cb7d02d"
      },
      "outputs": [
        {
          "output_type": "stream",
          "name": "stdout",
          "text": [
            "XGBT accuracy: 0.7777 (+/- 0.0121)\n",
            "XGBT precision: 0.7967 (+/- 0.0148)\n",
            "XGBT recall: 0.7436 (+/- 0.0215)\n",
            "XGBT ROC AUC score: 0.8554 (+/- 0.0091)\n"
          ]
        }
      ],
      "source": [
        "print(f\"XGBT accuracy: {scores['test_accuracy'].mean():.4f} (+/- {scores['test_accuracy'].std()*2:.4f})\")\n",
        "print(f\"XGBT precision: {scores['test_precision'].mean():.4f} (+/- {scores['test_precision'].std()*2:.4f})\")\n",
        "print(f\"XGBT recall: {scores['test_recall'].mean():.4f} (+/- {scores['test_recall'].std()*2:.4f})\")\n",
        "print(f\"XGBT ROC AUC score: {scores['test_roc_auc'].mean():.4f} (+/- {scores['test_roc_auc'].std()*2:.4f})\")"
      ]
    },
    {
      "cell_type": "markdown",
      "metadata": {
        "id": "RdFdBmc8cuOT"
      },
      "source": [
        "We can see that the tuned XGB yields the same results as the default XGB classifier. Maybe we could select a wider parameter grid to capture a performance improvement in a different configuration.\n",
        "\n",
        "Comparing the CV results of the XGB to the results for the logistic regression model, we can notice that there's a small improvement in performance in the XGB model. However, it could be argued that the extra complexity the XGB brings to the table is not worth the improvemente for the use case."
      ]
    },
    {
      "cell_type": "markdown",
      "metadata": {
        "id": "ZNS_hGZ6eTx-"
      },
      "source": [
        "Finally, let's match each prediction to the users:"
      ]
    },
    {
      "cell_type": "code",
      "execution_count": null,
      "metadata": {
        "colab": {
          "base_uri": "https://localhost:8080/",
          "height": 423
        },
        "id": "wsRfT10OduPL",
        "outputId": "687b16aa-6cfa-43c6-b2e5-d2e5c9af57d5"
      },
      "outputs": [
        {
          "data": {
            "text/html": [
              "\n",
              "  <div id=\"df-59107dbf-c6bc-4b11-8d65-e3bbec5b1e3f\">\n",
              "    <div class=\"colab-df-container\">\n",
              "      <div>\n",
              "<style scoped>\n",
              "    .dataframe tbody tr th:only-of-type {\n",
              "        vertical-align: middle;\n",
              "    }\n",
              "\n",
              "    .dataframe tbody tr th {\n",
              "        vertical-align: top;\n",
              "    }\n",
              "\n",
              "    .dataframe thead th {\n",
              "        text-align: right;\n",
              "    }\n",
              "</style>\n",
              "<table border=\"1\" class=\"dataframe\">\n",
              "  <thead>\n",
              "    <tr style=\"text-align: right;\">\n",
              "      <th></th>\n",
              "      <th>user</th>\n",
              "      <th>enrolled</th>\n",
              "      <th>prediction</th>\n",
              "    </tr>\n",
              "  </thead>\n",
              "  <tbody>\n",
              "    <tr>\n",
              "      <th>0</th>\n",
              "      <td>239786</td>\n",
              "      <td>1</td>\n",
              "      <td>1</td>\n",
              "    </tr>\n",
              "    <tr>\n",
              "      <th>1</th>\n",
              "      <td>279644</td>\n",
              "      <td>1</td>\n",
              "      <td>1</td>\n",
              "    </tr>\n",
              "    <tr>\n",
              "      <th>2</th>\n",
              "      <td>98290</td>\n",
              "      <td>0</td>\n",
              "      <td>0</td>\n",
              "    </tr>\n",
              "    <tr>\n",
              "      <th>3</th>\n",
              "      <td>170150</td>\n",
              "      <td>1</td>\n",
              "      <td>1</td>\n",
              "    </tr>\n",
              "    <tr>\n",
              "      <th>4</th>\n",
              "      <td>237568</td>\n",
              "      <td>1</td>\n",
              "      <td>0</td>\n",
              "    </tr>\n",
              "    <tr>\n",
              "      <th>...</th>\n",
              "      <td>...</td>\n",
              "      <td>...</td>\n",
              "      <td>...</td>\n",
              "    </tr>\n",
              "    <tr>\n",
              "      <th>9995</th>\n",
              "      <td>143036</td>\n",
              "      <td>1</td>\n",
              "      <td>1</td>\n",
              "    </tr>\n",
              "    <tr>\n",
              "      <th>9996</th>\n",
              "      <td>91158</td>\n",
              "      <td>1</td>\n",
              "      <td>1</td>\n",
              "    </tr>\n",
              "    <tr>\n",
              "      <th>9997</th>\n",
              "      <td>248318</td>\n",
              "      <td>0</td>\n",
              "      <td>0</td>\n",
              "    </tr>\n",
              "    <tr>\n",
              "      <th>9998</th>\n",
              "      <td>142418</td>\n",
              "      <td>1</td>\n",
              "      <td>1</td>\n",
              "    </tr>\n",
              "    <tr>\n",
              "      <th>9999</th>\n",
              "      <td>279355</td>\n",
              "      <td>1</td>\n",
              "      <td>1</td>\n",
              "    </tr>\n",
              "  </tbody>\n",
              "</table>\n",
              "<p>10000 rows × 3 columns</p>\n",
              "</div>\n",
              "      <button class=\"colab-df-convert\" onclick=\"convertToInteractive('df-59107dbf-c6bc-4b11-8d65-e3bbec5b1e3f')\"\n",
              "              title=\"Convert this dataframe to an interactive table.\"\n",
              "              style=\"display:none;\">\n",
              "        \n",
              "  <svg xmlns=\"http://www.w3.org/2000/svg\" height=\"24px\"viewBox=\"0 0 24 24\"\n",
              "       width=\"24px\">\n",
              "    <path d=\"M0 0h24v24H0V0z\" fill=\"none\"/>\n",
              "    <path d=\"M18.56 5.44l.94 2.06.94-2.06 2.06-.94-2.06-.94-.94-2.06-.94 2.06-2.06.94zm-11 1L8.5 8.5l.94-2.06 2.06-.94-2.06-.94L8.5 2.5l-.94 2.06-2.06.94zm10 10l.94 2.06.94-2.06 2.06-.94-2.06-.94-.94-2.06-.94 2.06-2.06.94z\"/><path d=\"M17.41 7.96l-1.37-1.37c-.4-.4-.92-.59-1.43-.59-.52 0-1.04.2-1.43.59L10.3 9.45l-7.72 7.72c-.78.78-.78 2.05 0 2.83L4 21.41c.39.39.9.59 1.41.59.51 0 1.02-.2 1.41-.59l7.78-7.78 2.81-2.81c.8-.78.8-2.07 0-2.86zM5.41 20L4 18.59l7.72-7.72 1.47 1.35L5.41 20z\"/>\n",
              "  </svg>\n",
              "      </button>\n",
              "      \n",
              "  <style>\n",
              "    .colab-df-container {\n",
              "      display:flex;\n",
              "      flex-wrap:wrap;\n",
              "      gap: 12px;\n",
              "    }\n",
              "\n",
              "    .colab-df-convert {\n",
              "      background-color: #E8F0FE;\n",
              "      border: none;\n",
              "      border-radius: 50%;\n",
              "      cursor: pointer;\n",
              "      display: none;\n",
              "      fill: #1967D2;\n",
              "      height: 32px;\n",
              "      padding: 0 0 0 0;\n",
              "      width: 32px;\n",
              "    }\n",
              "\n",
              "    .colab-df-convert:hover {\n",
              "      background-color: #E2EBFA;\n",
              "      box-shadow: 0px 1px 2px rgba(60, 64, 67, 0.3), 0px 1px 3px 1px rgba(60, 64, 67, 0.15);\n",
              "      fill: #174EA6;\n",
              "    }\n",
              "\n",
              "    [theme=dark] .colab-df-convert {\n",
              "      background-color: #3B4455;\n",
              "      fill: #D2E3FC;\n",
              "    }\n",
              "\n",
              "    [theme=dark] .colab-df-convert:hover {\n",
              "      background-color: #434B5C;\n",
              "      box-shadow: 0px 1px 3px 1px rgba(0, 0, 0, 0.15);\n",
              "      filter: drop-shadow(0px 1px 2px rgba(0, 0, 0, 0.3));\n",
              "      fill: #FFFFFF;\n",
              "    }\n",
              "  </style>\n",
              "\n",
              "      <script>\n",
              "        const buttonEl =\n",
              "          document.querySelector('#df-59107dbf-c6bc-4b11-8d65-e3bbec5b1e3f button.colab-df-convert');\n",
              "        buttonEl.style.display =\n",
              "          google.colab.kernel.accessAllowed ? 'block' : 'none';\n",
              "\n",
              "        async function convertToInteractive(key) {\n",
              "          const element = document.querySelector('#df-59107dbf-c6bc-4b11-8d65-e3bbec5b1e3f');\n",
              "          const dataTable =\n",
              "            await google.colab.kernel.invokeFunction('convertToInteractive',\n",
              "                                                     [key], {});\n",
              "          if (!dataTable) return;\n",
              "\n",
              "          const docLinkHtml = 'Like what you see? Visit the ' +\n",
              "            '<a target=\"_blank\" href=https://colab.research.google.com/notebooks/data_table.ipynb>data table notebook</a>'\n",
              "            + ' to learn more about interactive tables.';\n",
              "          element.innerHTML = '';\n",
              "          dataTable['output_type'] = 'display_data';\n",
              "          await google.colab.output.renderOutput(dataTable, element);\n",
              "          const docLink = document.createElement('div');\n",
              "          docLink.innerHTML = docLinkHtml;\n",
              "          element.appendChild(docLink);\n",
              "        }\n",
              "      </script>\n",
              "    </div>\n",
              "  </div>\n",
              "  "
            ],
            "text/plain": [
              "        user  enrolled  prediction\n",
              "0     239786         1           1\n",
              "1     279644         1           1\n",
              "2      98290         0           0\n",
              "3     170150         1           1\n",
              "4     237568         1           0\n",
              "...      ...       ...         ...\n",
              "9995  143036         1           1\n",
              "9996   91158         1           1\n",
              "9997  248318         0           0\n",
              "9998  142418         1           1\n",
              "9999  279355         1           1\n",
              "\n",
              "[10000 rows x 3 columns]"
            ]
          },
          "execution_count": 149,
          "metadata": {},
          "output_type": "execute_result"
        }
      ],
      "source": [
        "final_results = pd.concat([y_test,test_ids], axis=1).dropna()\n",
        "final_results['prediction'] = y_pred\n",
        "final_results[['user','enrolled','prediction']].reset_index(drop=True)"
      ]
    },
    {
      "cell_type": "markdown",
      "metadata": {
        "id": "C8si19EqmVhz"
      },
      "source": [
        "---\n",
        "\n",
        "## Conclusion\n",
        "\n",
        "Thus far we have managed to develop a model that will label a user as \"likely\" or \"unlikely\" to subscribe. We can further validate the results by running the predictions on daily new installs, and see whether the model's performance is consistent. From there, the company can focus their marketing efforts towards those user \"unlikely\" to subscribe in order to increase their subscription rate. \n",
        "\n",
        "It is important to emphasize that the model's goal is to identify those users as \"likely\" or \"unlikely\" to subscribe because it defines to which extent it's acceptable for the model to be wrong. In this case, a 76% accuracy means that, even though the model makes mistakes, the predictions are useful for the business because of what the business goals are. If this model were to be used to predict whether a patient has a terminal disease, then a 76% accuracy would render the model useless.\n",
        "\n",
        "The benefit of this model to the can be measured as the increase in the overall subscriptions. Let's remember that those already likely to subscribe will continue to do so, so we don't have to specifically target them. On the other hand, users who are likely to leave may convert to paid subscribers if we give extend great offers to them."
      ]
    },
    {
      "cell_type": "code",
      "execution_count": null,
      "metadata": {
        "id": "BoXnRPHM5FW_"
      },
      "outputs": [],
      "source": [
        ""
      ]
    }
  ],
  "metadata": {
    "colab": {
      "collapsed_sections": [],
      "name": "code.ipynb",
      "toc_visible": true,
      "provenance": [],
      "mount_file_id": "1g6NQGv4uF3JdEdvbAgKibZssaw_Q0myP",
      "authorship_tag": "ABX9TyMGvsvjaGv6Zqwiip8cC6BA",
      "include_colab_link": true
    },
    "kernelspec": {
      "display_name": "Python 3",
      "name": "python3"
    },
    "language_info": {
      "name": "python"
    },
    "accelerator": "GPU"
  },
  "nbformat": 4,
  "nbformat_minor": 0
}